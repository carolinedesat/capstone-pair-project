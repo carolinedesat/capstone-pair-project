{
 "cells": [
  {
   "cell_type": "code",
   "execution_count": 234,
   "id": "378918f2",
   "metadata": {},
   "outputs": [],
   "source": [
    "# Import the required libraries\n",
    "import pandas as pd\n",
    "import numpy as np\n",
    "import matplotlib.pyplot as plt\n",
    "import seaborn as seabornInstance\n",
    "from sklearn.model_selection import train_test_split\n",
    "from sklearn.linear_model import LinearRegression\n",
    "from sklearn import metrics"
   ]
  },
  {
   "cell_type": "code",
   "execution_count": 235,
   "id": "237a3b18",
   "metadata": {},
   "outputs": [],
   "source": [
    "# Import the datasets\n",
    "df_account = pd.read_csv('account.csv')\n",
    "df_card = pd.read_csv('card.csv')\n",
    "df_client = pd.read_csv('client.csv')\n",
    "# df_disp = pd.read_csv('disp.csv')\n",
    "df_district = pd.read_csv('district.csv')\n",
    "# df_loan = pd.read_csv('loan.csv')\n",
    "df_order = pd.read_csv('order.csv')\n",
    "df_trans = pd.read_csv('trans.csv')"
   ]
  },
  {
   "cell_type": "markdown",
   "id": "caab7d1d",
   "metadata": {},
   "source": [
    "### Find a user with more than one record and a least one fraud to create the user interface\n",
    "This will be used to find useful data to create a user login in the user interface."
   ]
  },
  {
   "cell_type": "code",
   "execution_count": null,
   "id": "61207196",
   "metadata": {},
   "outputs": [],
   "source": [
    "# Join the \"first\" and \"last\" columns to create the \"name\" column\n",
    "# dataset[\"name\"] = dataset[\"first\"] + \" \" + dataset[\"last\"]"
   ]
  },
  {
   "cell_type": "code",
   "execution_count": null,
   "id": "1458eb5f",
   "metadata": {},
   "outputs": [],
   "source": [
    "# Find the duplicate names\n",
    "# duplicate_names = dataset['name'].duplicated()\n",
    "# print(duplicate_names)"
   ]
  },
  {
   "cell_type": "code",
   "execution_count": null,
   "id": "a438a558",
   "metadata": {},
   "outputs": [],
   "source": [
    "# Find the duplicate name with ID 1296671\n",
    "# display(dataset.iloc[1296671])"
   ]
  },
  {
   "cell_type": "code",
   "execution_count": null,
   "id": "205551e7",
   "metadata": {},
   "outputs": [],
   "source": [
    "# Find how many records Jeffrey White have\n",
    "# jeffrey_white = dataset[dataset['name'] == 'Jeffrey White']\n",
    "# jeffrey_white_total = len(jeffrey_white)\n",
    "# print(jeffrey_white_total)"
   ]
  },
  {
   "cell_type": "code",
   "execution_count": null,
   "id": "5a1ab1fc",
   "metadata": {},
   "outputs": [],
   "source": [
    "# Find how many frauds Jeffrey White have\n",
    "# jeffrey_white = dataset[(dataset['name'] == 'Jeffrey White') & (dataset['is_fraud'] == 1)]\n",
    "# jeffrey_white_fraud = len(jeffrey_white)\n",
    "\n",
    "# print(jeffrey_white_fraud)"
   ]
  }
 ],
 "metadata": {
  "kernelspec": {
   "display_name": "Python 3 (ipykernel)",
   "language": "python",
   "name": "python3"
  },
  "language_info": {
   "codemirror_mode": {
    "name": "ipython",
    "version": 3
   },
   "file_extension": ".py",
   "mimetype": "text/x-python",
   "name": "python",
   "nbconvert_exporter": "python",
   "pygments_lexer": "ipython3",
   "version": "3.9.7"
  }
 },
 "nbformat": 4,
 "nbformat_minor": 5
}
