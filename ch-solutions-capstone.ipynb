{
 "cells": [
  {
   "cell_type": "code",
   "execution_count": 97,
   "id": "378918f2",
   "metadata": {},
   "outputs": [],
   "source": [
    "# Import the required libraries\n",
    "import pandas as pd\n",
    "import numpy as np\n",
    "import matplotlib.pyplot as plt\n",
    "import seaborn as seabornInstance\n",
    "from sklearn.model_selection import train_test_split\n",
    "from sklearn.linear_model import LinearRegression\n",
    "from sklearn import metrics"
   ]
  },
  {
   "cell_type": "code",
   "execution_count": null,
   "id": "237a3b18",
   "metadata": {},
   "outputs": [],
   "source": [
    "# Import the dataset\n",
    "dataset = pd.read_csv('fraudTrain.csv')"
   ]
  },
  {
   "cell_type": "code",
   "execution_count": null,
   "id": "abdfda9a",
   "metadata": {},
   "outputs": [],
   "source": [
    "dataset.info()"
   ]
  },
  {
   "cell_type": "code",
   "execution_count": null,
   "id": "a6d6fec1",
   "metadata": {},
   "outputs": [],
   "source": [
    "dataset.head()"
   ]
  },
  {
   "cell_type": "code",
   "execution_count": null,
   "id": "8967ce4e",
   "metadata": {},
   "outputs": [],
   "source": [
    "# 1296675 rows and 23 columns\n",
    "dataset.shape"
   ]
  },
  {
   "cell_type": "code",
   "execution_count": null,
   "id": "6a27f517",
   "metadata": {},
   "outputs": [],
   "source": [
    "# Describe the dataset\n",
    "dataset.describe()"
   ]
  },
  {
   "cell_type": "code",
   "execution_count": null,
   "id": "d52683f9",
   "metadata": {},
   "outputs": [],
   "source": [
    "# Count no-frauds (0) and frauds (1)\n",
    "occ = dataset['is_fraud'].value_counts()\n",
    "occ"
   ]
  },
  {
   "cell_type": "code",
   "execution_count": null,
   "id": "21bab182",
   "metadata": {},
   "outputs": [],
   "source": [
    "# Group by category and calculate the mean\n",
    "dataset.groupby(['category']).mean()"
   ]
  },
  {
   "cell_type": "code",
   "execution_count": null,
   "id": "3a427ba7",
   "metadata": {},
   "outputs": [],
   "source": [
    "# Create a fraudulent and a non-fraudulent dataset\n",
    "df_fraud = dataset[dataset.is_fraud == 1] \n",
    "df_non_fraud = dataset[dataset.is_fraud == 0]"
   ]
  },
  {
   "cell_type": "code",
   "execution_count": null,
   "id": "3362c732",
   "metadata": {},
   "outputs": [],
   "source": [
    "# Count how many records are fraudulent and non-fraudulent\n",
    "fraud_count = dataset_fraud['is_fraud'].sum()\n",
    "non_fraud_count = dataset_non_fraud['is_fraud'].count() - fraud_count"
   ]
  },
  {
   "cell_type": "code",
   "execution_count": null,
   "id": "97ed1eb9",
   "metadata": {},
   "outputs": [],
   "source": [
    "# Plot the count\n",
    "plt.bar(['fraud', 'nonfraud'], [fraud_count, non_fraud_count])\n",
    "plt.xlabel('Fraud')\n",
    "plt.ylabel('Amount')\n",
    "plt.title('Fraud vs Non-Fraud')\n",
    "plt.show()"
   ]
  },
  {
   "cell_type": "code",
   "execution_count": null,
   "id": "794a7f59",
   "metadata": {},
   "outputs": [],
   "source": []
  }
 ],
 "metadata": {
  "kernelspec": {
   "display_name": "Python 3 (ipykernel)",
   "language": "python",
   "name": "python3"
  },
  "language_info": {
   "codemirror_mode": {
    "name": "ipython",
    "version": 3
   },
   "file_extension": ".py",
   "mimetype": "text/x-python",
   "name": "python",
   "nbconvert_exporter": "python",
   "pygments_lexer": "ipython3",
   "version": "3.9.7"
  }
 },
 "nbformat": 4,
 "nbformat_minor": 5
}
