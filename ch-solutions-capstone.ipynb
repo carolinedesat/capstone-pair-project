{
 "cells": [
  {
   "cell_type": "markdown",
   "id": "8c096951",
   "metadata": {},
   "source": [
    "# 1. Libraries and Datasets"
   ]
  },
  {
   "cell_type": "code",
   "execution_count": 1,
   "id": "378918f2",
   "metadata": {},
   "outputs": [],
   "source": [
    "# Import the required libraries\n",
    "import pandas as pd\n",
    "import numpy as np\n",
    "import matplotlib.pyplot as plt\n",
    "import seaborn as sns\n",
    "from sklearn.model_selection import train_test_split\n",
    "from sklearn.linear_model import LinearRegression\n",
    "from sklearn import metrics\n",
    "from datetime import datetime\n",
    "from datetime import date"
   ]
  },
  {
   "cell_type": "code",
   "execution_count": 2,
   "id": "237a3b18",
   "metadata": {},
   "outputs": [
    {
     "name": "stderr",
     "output_type": "stream",
     "text": [
      "C:\\Users\\Heber\\AppData\\Local\\Temp\\ipykernel_12608\\1112524389.py:26: DtypeWarning: Columns (8) have mixed types. Specify dtype option on import or set low_memory=False.\n",
      "  df_trans = pd.read_csv('trans.csv', delimiter=';', header=0, na_values=' ') # Replace empty entries by Na\n"
     ]
    }
   ],
   "source": [
    "# Import the datasets, \n",
    "# Specify the delimeter and header\n",
    "\n",
    "# Describes static characteristics of an account\n",
    "df_account = pd.read_csv('account.csv', delimiter=';', header=0)\n",
    "\n",
    "# Describes a credit card issued to an account\n",
    "# df_card = pd.read_csv('card.csv', delimiter=';', header=0)\n",
    "\n",
    "# Describes characteristics of a client\n",
    "df_client = pd.read_csv('client.csv', delimiter=';', header=0)\n",
    "\n",
    "# Relates together a client with an account\n",
    "df_disp = pd.read_csv('disp.csv', delimiter=';', header=0)\n",
    "\n",
    "# Describes demographic characteristics of a district\n",
    "df_district = pd.read_csv('district.csv', delimiter=';', header=0)\n",
    "\n",
    "# Describes a loan granted for a given account\n",
    "# df_loan = pd.read_csv('loan.csv', delimiter=';', header=0)\n",
    "\n",
    "# Describes characteristics of a payment order\n",
    "df_order = pd.read_csv('order.csv', delimiter=';', header=0, na_values=' ') # Replace empty entries by Na\n",
    "\n",
    "# Describes one transaction on an account\n",
    "df_trans = pd.read_csv('trans.csv', delimiter=';', header=0, na_values=' ') # Replace empty entries by Na"
   ]
  },
  {
   "cell_type": "code",
   "execution_count": 3,
   "id": "9eefc765",
   "metadata": {},
   "outputs": [
    {
     "data": {
      "text/html": [
       "<div>\n",
       "<style scoped>\n",
       "    .dataframe tbody tr th:only-of-type {\n",
       "        vertical-align: middle;\n",
       "    }\n",
       "\n",
       "    .dataframe tbody tr th {\n",
       "        vertical-align: top;\n",
       "    }\n",
       "\n",
       "    .dataframe thead th {\n",
       "        text-align: right;\n",
       "    }\n",
       "</style>\n",
       "<table border=\"1\" class=\"dataframe\">\n",
       "  <thead>\n",
       "    <tr style=\"text-align: right;\">\n",
       "      <th></th>\n",
       "      <th>account_id</th>\n",
       "      <th>district_id</th>\n",
       "      <th>frequency</th>\n",
       "      <th>date</th>\n",
       "    </tr>\n",
       "  </thead>\n",
       "  <tbody>\n",
       "    <tr>\n",
       "      <th>0</th>\n",
       "      <td>576</td>\n",
       "      <td>55</td>\n",
       "      <td>POPLATEK MESICNE</td>\n",
       "      <td>930101</td>\n",
       "    </tr>\n",
       "    <tr>\n",
       "      <th>1</th>\n",
       "      <td>3818</td>\n",
       "      <td>74</td>\n",
       "      <td>POPLATEK MESICNE</td>\n",
       "      <td>930101</td>\n",
       "    </tr>\n",
       "    <tr>\n",
       "      <th>2</th>\n",
       "      <td>704</td>\n",
       "      <td>55</td>\n",
       "      <td>POPLATEK MESICNE</td>\n",
       "      <td>930101</td>\n",
       "    </tr>\n",
       "    <tr>\n",
       "      <th>3</th>\n",
       "      <td>2378</td>\n",
       "      <td>16</td>\n",
       "      <td>POPLATEK MESICNE</td>\n",
       "      <td>930101</td>\n",
       "    </tr>\n",
       "    <tr>\n",
       "      <th>4</th>\n",
       "      <td>2632</td>\n",
       "      <td>24</td>\n",
       "      <td>POPLATEK MESICNE</td>\n",
       "      <td>930102</td>\n",
       "    </tr>\n",
       "  </tbody>\n",
       "</table>\n",
       "</div>"
      ],
      "text/plain": [
       "   account_id  district_id         frequency    date\n",
       "0         576           55  POPLATEK MESICNE  930101\n",
       "1        3818           74  POPLATEK MESICNE  930101\n",
       "2         704           55  POPLATEK MESICNE  930101\n",
       "3        2378           16  POPLATEK MESICNE  930101\n",
       "4        2632           24  POPLATEK MESICNE  930102"
      ]
     },
     "execution_count": 3,
     "metadata": {},
     "output_type": "execute_result"
    }
   ],
   "source": [
    "df_account.head()"
   ]
  },
  {
   "cell_type": "code",
   "execution_count": 4,
   "id": "c9e72912",
   "metadata": {},
   "outputs": [
    {
     "data": {
      "text/html": [
       "<div>\n",
       "<style scoped>\n",
       "    .dataframe tbody tr th:only-of-type {\n",
       "        vertical-align: middle;\n",
       "    }\n",
       "\n",
       "    .dataframe tbody tr th {\n",
       "        vertical-align: top;\n",
       "    }\n",
       "\n",
       "    .dataframe thead th {\n",
       "        text-align: right;\n",
       "    }\n",
       "</style>\n",
       "<table border=\"1\" class=\"dataframe\">\n",
       "  <thead>\n",
       "    <tr style=\"text-align: right;\">\n",
       "      <th></th>\n",
       "      <th>client_id</th>\n",
       "      <th>birth_number</th>\n",
       "      <th>district_id</th>\n",
       "    </tr>\n",
       "  </thead>\n",
       "  <tbody>\n",
       "    <tr>\n",
       "      <th>0</th>\n",
       "      <td>1</td>\n",
       "      <td>706213</td>\n",
       "      <td>18</td>\n",
       "    </tr>\n",
       "    <tr>\n",
       "      <th>1</th>\n",
       "      <td>2</td>\n",
       "      <td>450204</td>\n",
       "      <td>1</td>\n",
       "    </tr>\n",
       "    <tr>\n",
       "      <th>2</th>\n",
       "      <td>3</td>\n",
       "      <td>406009</td>\n",
       "      <td>1</td>\n",
       "    </tr>\n",
       "    <tr>\n",
       "      <th>3</th>\n",
       "      <td>4</td>\n",
       "      <td>561201</td>\n",
       "      <td>5</td>\n",
       "    </tr>\n",
       "    <tr>\n",
       "      <th>4</th>\n",
       "      <td>5</td>\n",
       "      <td>605703</td>\n",
       "      <td>5</td>\n",
       "    </tr>\n",
       "  </tbody>\n",
       "</table>\n",
       "</div>"
      ],
      "text/plain": [
       "   client_id  birth_number  district_id\n",
       "0          1        706213           18\n",
       "1          2        450204            1\n",
       "2          3        406009            1\n",
       "3          4        561201            5\n",
       "4          5        605703            5"
      ]
     },
     "execution_count": 4,
     "metadata": {},
     "output_type": "execute_result"
    }
   ],
   "source": [
    "df_client.head()"
   ]
  },
  {
   "cell_type": "code",
   "execution_count": 5,
   "id": "884f4e0c",
   "metadata": {},
   "outputs": [
    {
     "data": {
      "text/html": [
       "<div>\n",
       "<style scoped>\n",
       "    .dataframe tbody tr th:only-of-type {\n",
       "        vertical-align: middle;\n",
       "    }\n",
       "\n",
       "    .dataframe tbody tr th {\n",
       "        vertical-align: top;\n",
       "    }\n",
       "\n",
       "    .dataframe thead th {\n",
       "        text-align: right;\n",
       "    }\n",
       "</style>\n",
       "<table border=\"1\" class=\"dataframe\">\n",
       "  <thead>\n",
       "    <tr style=\"text-align: right;\">\n",
       "      <th></th>\n",
       "      <th>disp_id</th>\n",
       "      <th>client_id</th>\n",
       "      <th>account_id</th>\n",
       "      <th>type</th>\n",
       "    </tr>\n",
       "  </thead>\n",
       "  <tbody>\n",
       "    <tr>\n",
       "      <th>0</th>\n",
       "      <td>1</td>\n",
       "      <td>1</td>\n",
       "      <td>1</td>\n",
       "      <td>OWNER</td>\n",
       "    </tr>\n",
       "    <tr>\n",
       "      <th>1</th>\n",
       "      <td>2</td>\n",
       "      <td>2</td>\n",
       "      <td>2</td>\n",
       "      <td>OWNER</td>\n",
       "    </tr>\n",
       "    <tr>\n",
       "      <th>2</th>\n",
       "      <td>3</td>\n",
       "      <td>3</td>\n",
       "      <td>2</td>\n",
       "      <td>DISPONENT</td>\n",
       "    </tr>\n",
       "    <tr>\n",
       "      <th>3</th>\n",
       "      <td>4</td>\n",
       "      <td>4</td>\n",
       "      <td>3</td>\n",
       "      <td>OWNER</td>\n",
       "    </tr>\n",
       "    <tr>\n",
       "      <th>4</th>\n",
       "      <td>5</td>\n",
       "      <td>5</td>\n",
       "      <td>3</td>\n",
       "      <td>DISPONENT</td>\n",
       "    </tr>\n",
       "  </tbody>\n",
       "</table>\n",
       "</div>"
      ],
      "text/plain": [
       "   disp_id  client_id  account_id       type\n",
       "0        1          1           1      OWNER\n",
       "1        2          2           2      OWNER\n",
       "2        3          3           2  DISPONENT\n",
       "3        4          4           3      OWNER\n",
       "4        5          5           3  DISPONENT"
      ]
     },
     "execution_count": 5,
     "metadata": {},
     "output_type": "execute_result"
    }
   ],
   "source": [
    "df_disp.head()"
   ]
  },
  {
   "cell_type": "code",
   "execution_count": 6,
   "id": "a24b2911",
   "metadata": {},
   "outputs": [
    {
     "data": {
      "text/html": [
       "<div>\n",
       "<style scoped>\n",
       "    .dataframe tbody tr th:only-of-type {\n",
       "        vertical-align: middle;\n",
       "    }\n",
       "\n",
       "    .dataframe tbody tr th {\n",
       "        vertical-align: top;\n",
       "    }\n",
       "\n",
       "    .dataframe thead th {\n",
       "        text-align: right;\n",
       "    }\n",
       "</style>\n",
       "<table border=\"1\" class=\"dataframe\">\n",
       "  <thead>\n",
       "    <tr style=\"text-align: right;\">\n",
       "      <th></th>\n",
       "      <th>A1</th>\n",
       "      <th>A2</th>\n",
       "      <th>A3</th>\n",
       "      <th>A4</th>\n",
       "      <th>A5</th>\n",
       "      <th>A6</th>\n",
       "      <th>A7</th>\n",
       "      <th>A8</th>\n",
       "      <th>A9</th>\n",
       "      <th>A10</th>\n",
       "      <th>A11</th>\n",
       "      <th>A12</th>\n",
       "      <th>A13</th>\n",
       "      <th>A14</th>\n",
       "      <th>A15</th>\n",
       "      <th>A16</th>\n",
       "    </tr>\n",
       "  </thead>\n",
       "  <tbody>\n",
       "    <tr>\n",
       "      <th>0</th>\n",
       "      <td>1</td>\n",
       "      <td>Hl.m. Praha</td>\n",
       "      <td>Prague</td>\n",
       "      <td>1204953</td>\n",
       "      <td>0</td>\n",
       "      <td>0</td>\n",
       "      <td>0</td>\n",
       "      <td>1</td>\n",
       "      <td>1</td>\n",
       "      <td>100.0</td>\n",
       "      <td>12541</td>\n",
       "      <td>0.29</td>\n",
       "      <td>0.43</td>\n",
       "      <td>167</td>\n",
       "      <td>85677</td>\n",
       "      <td>99107</td>\n",
       "    </tr>\n",
       "    <tr>\n",
       "      <th>1</th>\n",
       "      <td>2</td>\n",
       "      <td>Benesov</td>\n",
       "      <td>central Bohemia</td>\n",
       "      <td>88884</td>\n",
       "      <td>80</td>\n",
       "      <td>26</td>\n",
       "      <td>6</td>\n",
       "      <td>2</td>\n",
       "      <td>5</td>\n",
       "      <td>46.7</td>\n",
       "      <td>8507</td>\n",
       "      <td>1.67</td>\n",
       "      <td>1.85</td>\n",
       "      <td>132</td>\n",
       "      <td>2159</td>\n",
       "      <td>2674</td>\n",
       "    </tr>\n",
       "    <tr>\n",
       "      <th>2</th>\n",
       "      <td>3</td>\n",
       "      <td>Beroun</td>\n",
       "      <td>central Bohemia</td>\n",
       "      <td>75232</td>\n",
       "      <td>55</td>\n",
       "      <td>26</td>\n",
       "      <td>4</td>\n",
       "      <td>1</td>\n",
       "      <td>5</td>\n",
       "      <td>41.7</td>\n",
       "      <td>8980</td>\n",
       "      <td>1.95</td>\n",
       "      <td>2.21</td>\n",
       "      <td>111</td>\n",
       "      <td>2824</td>\n",
       "      <td>2813</td>\n",
       "    </tr>\n",
       "    <tr>\n",
       "      <th>3</th>\n",
       "      <td>4</td>\n",
       "      <td>Kladno</td>\n",
       "      <td>central Bohemia</td>\n",
       "      <td>149893</td>\n",
       "      <td>63</td>\n",
       "      <td>29</td>\n",
       "      <td>6</td>\n",
       "      <td>2</td>\n",
       "      <td>6</td>\n",
       "      <td>67.4</td>\n",
       "      <td>9753</td>\n",
       "      <td>4.64</td>\n",
       "      <td>5.05</td>\n",
       "      <td>109</td>\n",
       "      <td>5244</td>\n",
       "      <td>5892</td>\n",
       "    </tr>\n",
       "    <tr>\n",
       "      <th>4</th>\n",
       "      <td>5</td>\n",
       "      <td>Kolin</td>\n",
       "      <td>central Bohemia</td>\n",
       "      <td>95616</td>\n",
       "      <td>65</td>\n",
       "      <td>30</td>\n",
       "      <td>4</td>\n",
       "      <td>1</td>\n",
       "      <td>6</td>\n",
       "      <td>51.4</td>\n",
       "      <td>9307</td>\n",
       "      <td>3.85</td>\n",
       "      <td>4.43</td>\n",
       "      <td>118</td>\n",
       "      <td>2616</td>\n",
       "      <td>3040</td>\n",
       "    </tr>\n",
       "  </tbody>\n",
       "</table>\n",
       "</div>"
      ],
      "text/plain": [
       "   A1           A2               A3       A4  A5  A6  A7  A8  A9    A10  \\\n",
       "0   1  Hl.m. Praha           Prague  1204953   0   0   0   1   1  100.0   \n",
       "1   2      Benesov  central Bohemia    88884  80  26   6   2   5   46.7   \n",
       "2   3       Beroun  central Bohemia    75232  55  26   4   1   5   41.7   \n",
       "3   4       Kladno  central Bohemia   149893  63  29   6   2   6   67.4   \n",
       "4   5        Kolin  central Bohemia    95616  65  30   4   1   6   51.4   \n",
       "\n",
       "     A11   A12   A13  A14    A15    A16  \n",
       "0  12541  0.29  0.43  167  85677  99107  \n",
       "1   8507  1.67  1.85  132   2159   2674  \n",
       "2   8980  1.95  2.21  111   2824   2813  \n",
       "3   9753  4.64  5.05  109   5244   5892  \n",
       "4   9307  3.85  4.43  118   2616   3040  "
      ]
     },
     "execution_count": 6,
     "metadata": {},
     "output_type": "execute_result"
    }
   ],
   "source": [
    "df_district.head()"
   ]
  },
  {
   "cell_type": "code",
   "execution_count": 7,
   "id": "ec6c4156",
   "metadata": {},
   "outputs": [
    {
     "data": {
      "text/html": [
       "<div>\n",
       "<style scoped>\n",
       "    .dataframe tbody tr th:only-of-type {\n",
       "        vertical-align: middle;\n",
       "    }\n",
       "\n",
       "    .dataframe tbody tr th {\n",
       "        vertical-align: top;\n",
       "    }\n",
       "\n",
       "    .dataframe thead th {\n",
       "        text-align: right;\n",
       "    }\n",
       "</style>\n",
       "<table border=\"1\" class=\"dataframe\">\n",
       "  <thead>\n",
       "    <tr style=\"text-align: right;\">\n",
       "      <th></th>\n",
       "      <th>order_id</th>\n",
       "      <th>account_id</th>\n",
       "      <th>bank_to</th>\n",
       "      <th>account_to</th>\n",
       "      <th>amount</th>\n",
       "      <th>k_symbol</th>\n",
       "    </tr>\n",
       "  </thead>\n",
       "  <tbody>\n",
       "    <tr>\n",
       "      <th>0</th>\n",
       "      <td>29401</td>\n",
       "      <td>1</td>\n",
       "      <td>YZ</td>\n",
       "      <td>87144583</td>\n",
       "      <td>2452.0</td>\n",
       "      <td>SIPO</td>\n",
       "    </tr>\n",
       "    <tr>\n",
       "      <th>1</th>\n",
       "      <td>29402</td>\n",
       "      <td>2</td>\n",
       "      <td>ST</td>\n",
       "      <td>89597016</td>\n",
       "      <td>3372.7</td>\n",
       "      <td>UVER</td>\n",
       "    </tr>\n",
       "    <tr>\n",
       "      <th>2</th>\n",
       "      <td>29403</td>\n",
       "      <td>2</td>\n",
       "      <td>QR</td>\n",
       "      <td>13943797</td>\n",
       "      <td>7266.0</td>\n",
       "      <td>SIPO</td>\n",
       "    </tr>\n",
       "    <tr>\n",
       "      <th>3</th>\n",
       "      <td>29404</td>\n",
       "      <td>3</td>\n",
       "      <td>WX</td>\n",
       "      <td>83084338</td>\n",
       "      <td>1135.0</td>\n",
       "      <td>SIPO</td>\n",
       "    </tr>\n",
       "    <tr>\n",
       "      <th>4</th>\n",
       "      <td>29405</td>\n",
       "      <td>3</td>\n",
       "      <td>CD</td>\n",
       "      <td>24485939</td>\n",
       "      <td>327.0</td>\n",
       "      <td>NaN</td>\n",
       "    </tr>\n",
       "  </tbody>\n",
       "</table>\n",
       "</div>"
      ],
      "text/plain": [
       "   order_id  account_id bank_to  account_to  amount k_symbol\n",
       "0     29401           1      YZ    87144583  2452.0     SIPO\n",
       "1     29402           2      ST    89597016  3372.7     UVER\n",
       "2     29403           2      QR    13943797  7266.0     SIPO\n",
       "3     29404           3      WX    83084338  1135.0     SIPO\n",
       "4     29405           3      CD    24485939   327.0      NaN"
      ]
     },
     "execution_count": 7,
     "metadata": {},
     "output_type": "execute_result"
    }
   ],
   "source": [
    "df_order.head()"
   ]
  },
  {
   "cell_type": "code",
   "execution_count": 8,
   "id": "13570a71",
   "metadata": {},
   "outputs": [
    {
     "data": {
      "text/html": [
       "<div>\n",
       "<style scoped>\n",
       "    .dataframe tbody tr th:only-of-type {\n",
       "        vertical-align: middle;\n",
       "    }\n",
       "\n",
       "    .dataframe tbody tr th {\n",
       "        vertical-align: top;\n",
       "    }\n",
       "\n",
       "    .dataframe thead th {\n",
       "        text-align: right;\n",
       "    }\n",
       "</style>\n",
       "<table border=\"1\" class=\"dataframe\">\n",
       "  <thead>\n",
       "    <tr style=\"text-align: right;\">\n",
       "      <th></th>\n",
       "      <th>trans_id</th>\n",
       "      <th>account_id</th>\n",
       "      <th>date</th>\n",
       "      <th>type</th>\n",
       "      <th>operation</th>\n",
       "      <th>amount</th>\n",
       "      <th>balance</th>\n",
       "      <th>k_symbol</th>\n",
       "      <th>bank</th>\n",
       "      <th>account</th>\n",
       "    </tr>\n",
       "  </thead>\n",
       "  <tbody>\n",
       "    <tr>\n",
       "      <th>0</th>\n",
       "      <td>695247</td>\n",
       "      <td>2378</td>\n",
       "      <td>930101</td>\n",
       "      <td>PRIJEM</td>\n",
       "      <td>VKLAD</td>\n",
       "      <td>700.0</td>\n",
       "      <td>700.0</td>\n",
       "      <td>NaN</td>\n",
       "      <td>NaN</td>\n",
       "      <td>NaN</td>\n",
       "    </tr>\n",
       "    <tr>\n",
       "      <th>1</th>\n",
       "      <td>171812</td>\n",
       "      <td>576</td>\n",
       "      <td>930101</td>\n",
       "      <td>PRIJEM</td>\n",
       "      <td>VKLAD</td>\n",
       "      <td>900.0</td>\n",
       "      <td>900.0</td>\n",
       "      <td>NaN</td>\n",
       "      <td>NaN</td>\n",
       "      <td>NaN</td>\n",
       "    </tr>\n",
       "    <tr>\n",
       "      <th>2</th>\n",
       "      <td>207264</td>\n",
       "      <td>704</td>\n",
       "      <td>930101</td>\n",
       "      <td>PRIJEM</td>\n",
       "      <td>VKLAD</td>\n",
       "      <td>1000.0</td>\n",
       "      <td>1000.0</td>\n",
       "      <td>NaN</td>\n",
       "      <td>NaN</td>\n",
       "      <td>NaN</td>\n",
       "    </tr>\n",
       "    <tr>\n",
       "      <th>3</th>\n",
       "      <td>1117247</td>\n",
       "      <td>3818</td>\n",
       "      <td>930101</td>\n",
       "      <td>PRIJEM</td>\n",
       "      <td>VKLAD</td>\n",
       "      <td>600.0</td>\n",
       "      <td>600.0</td>\n",
       "      <td>NaN</td>\n",
       "      <td>NaN</td>\n",
       "      <td>NaN</td>\n",
       "    </tr>\n",
       "    <tr>\n",
       "      <th>4</th>\n",
       "      <td>579373</td>\n",
       "      <td>1972</td>\n",
       "      <td>930102</td>\n",
       "      <td>PRIJEM</td>\n",
       "      <td>VKLAD</td>\n",
       "      <td>400.0</td>\n",
       "      <td>400.0</td>\n",
       "      <td>NaN</td>\n",
       "      <td>NaN</td>\n",
       "      <td>NaN</td>\n",
       "    </tr>\n",
       "  </tbody>\n",
       "</table>\n",
       "</div>"
      ],
      "text/plain": [
       "   trans_id  account_id    date    type operation  amount  balance k_symbol  \\\n",
       "0    695247        2378  930101  PRIJEM     VKLAD   700.0    700.0      NaN   \n",
       "1    171812         576  930101  PRIJEM     VKLAD   900.0    900.0      NaN   \n",
       "2    207264         704  930101  PRIJEM     VKLAD  1000.0   1000.0      NaN   \n",
       "3   1117247        3818  930101  PRIJEM     VKLAD   600.0    600.0      NaN   \n",
       "4    579373        1972  930102  PRIJEM     VKLAD   400.0    400.0      NaN   \n",
       "\n",
       "  bank  account  \n",
       "0  NaN      NaN  \n",
       "1  NaN      NaN  \n",
       "2  NaN      NaN  \n",
       "3  NaN      NaN  \n",
       "4  NaN      NaN  "
      ]
     },
     "execution_count": 8,
     "metadata": {},
     "output_type": "execute_result"
    }
   ],
   "source": [
    "df_trans.head()"
   ]
  },
  {
   "cell_type": "markdown",
   "id": "01158d1e",
   "metadata": {},
   "source": [
    "# 2. Data Cleaning"
   ]
  },
  {
   "cell_type": "markdown",
   "id": "caecbe8d",
   "metadata": {},
   "source": [
    "### 2.1. Column Cleaning"
   ]
  },
  {
   "cell_type": "code",
   "execution_count": 9,
   "id": "f1c3aaed",
   "metadata": {},
   "outputs": [],
   "source": [
    "# Index the account_id unique identifier\n",
    "df_account = df_account.set_index('account_id')"
   ]
  },
  {
   "cell_type": "code",
   "execution_count": 10,
   "id": "7342ae0c",
   "metadata": {},
   "outputs": [],
   "source": [
    "# Drop df_account unnecessary data\n",
    "df_account.drop(columns=['frequency', 'date'], inplace=True)\n",
    "\n",
    "# Drop df_client unnecessary data\n",
    "df_client.drop(columns=['district_id'], inplace=True)\n",
    "\n",
    "# Drop df_disp unnecessary data\n",
    "df_disp.drop(columns=['type'], inplace=True)\n",
    "\n",
    "# Drop all demographic data except district name and region\n",
    "df_district.drop(columns=['A4', 'A5', 'A6', 'A7', 'A8', 'A9', 'A10', 'A12', 'A13', 'A14', 'A15', 'A16'], inplace=True)\n",
    "\n",
    "# Drop df_order unnecessary data\n",
    "df_order.drop(columns=['bank_to'], inplace=True)\n",
    "\n",
    "# Drop df_trans unnecessary data\n",
    "df_trans.drop(columns=['balance', 'bank'], inplace=True)"
   ]
  },
  {
   "cell_type": "code",
   "execution_count": 11,
   "id": "db156251",
   "metadata": {},
   "outputs": [],
   "source": [
    "# Rename the necessary columns\n",
    "df_order.rename(columns={'account_to': 'order_receiver'}, inplace=True)\n",
    "df_order.rename(columns={'amount': 'order_amount'}, inplace=True)\n",
    "df_order.rename(columns={'k_symbol': 'order_char'}, inplace=True)\n",
    "df_trans.rename(columns={'date': 'trans_date'}, inplace=True)\n",
    "df_trans.rename(columns={'type': 'trans_type'}, inplace=True)\n",
    "df_trans.rename(columns={'operation': 'trans_mode'}, inplace=True)\n",
    "df_trans.rename(columns={'amount': 'trans_amount'}, inplace=True)\n",
    "df_trans.rename(columns={'k_symbol': 'trans_char'}, inplace=True)\n",
    "df_trans.rename(columns={'account': 'trans_receiver'}, inplace=True)\n",
    "df_district.rename(columns={'A1': 'district_id'}, inplace=True)\n",
    "df_district.rename(columns={'A2': 'district_name'}, inplace=True)\n",
    "df_district.rename(columns={'A3': 'district_region'}, inplace=True)\n",
    "df_district.rename(columns={'A11': 'average_salary'}, inplace=True)"
   ]
  },
  {
   "cell_type": "markdown",
   "id": "f6166595",
   "metadata": {},
   "source": [
    "### 2.2. Row cleaning"
   ]
  },
  {
   "cell_type": "markdown",
   "id": "f660aad3",
   "metadata": {},
   "source": [
    "#### a) Date of birth, gender and age for df_client and df_trans"
   ]
  },
  {
   "cell_type": "code",
   "execution_count": 12,
   "id": "e908da04",
   "metadata": {
    "scrolled": true
   },
   "outputs": [],
   "source": [
    "# Define a function to convert the date_of_birth and trans_date values to the formatted dates\n",
    "def convert_to_date (df, col):\n",
    "    df [col] = pd.to_datetime (df [col], format = '%y%m%d', errors = 'coerce') # Convertion, formatting and error handling\n",
    "    return df\n",
    "\n",
    "# Define a function to calculate the age from the birth year\n",
    "def calculate_age (birth_year):\n",
    "    age = birth_year.year\n",
    "    return 1998 - age # The dataset is from 1998\n",
    "\n",
    "# Define a function to check if a year is being read as 1900 or 2000\n",
    "def fix_date (date):\n",
    "    if date.year > 2000:\n",
    "        date = date.replace (year = date.year - 100)\n",
    "        return date\n",
    "    else:\n",
    "        return date"
   ]
  },
  {
   "cell_type": "code",
   "execution_count": 13,
   "id": "623ca9d4",
   "metadata": {},
   "outputs": [],
   "source": [
    "# Add the columns date_of_birth, gender and age to the df_client dataset\n",
    "df_client = df_client.join(pd.DataFrame({'date_of_birth': np.nan, 'gender': np.nan, 'age': np.nan}, index = df_client.index))"
   ]
  },
  {
   "cell_type": "code",
   "execution_count": 14,
   "id": "97825475",
   "metadata": {
    "scrolled": true
   },
   "outputs": [
    {
     "name": "stderr",
     "output_type": "stream",
     "text": [
      "C:\\Users\\Heber\\AppData\\Local\\Temp\\ipykernel_12608\\1201675192.py:6: FutureWarning: Setting an item of incompatible dtype is deprecated and will raise in a future error of pandas. Value 'female' has dtype incompatible with float64, please explicitly cast to a compatible dtype first.\n",
      "  df_client.loc [idx, 'gender'] = \"female\"\n"
     ]
    }
   ],
   "source": [
    "# Fill the new gender column based on the 'birth_number'\n",
    "df_client ['date_of_birth'] = df_client ['birth_number']\n",
    "for idx, item in enumerate (df_client ['birth_number']):\n",
    "    # The value is in the format YYMM+50DD for women\n",
    "    if int (str (item) [2:4]) > 50: # Extract the month and check if it's greater than 50\n",
    "        df_client.loc [idx, 'gender'] = \"female\"\n",
    "        df_client.loc [idx, 'date_of_birth'] = item - 5000 # Subtract 5000 to get the actual date of birth in the right format\n",
    "    else: \n",
    "        df_client.loc [idx, 'gender'] = \"male\""
   ]
  },
  {
   "cell_type": "code",
   "execution_count": 15,
   "id": "1ea8f64a",
   "metadata": {},
   "outputs": [],
   "source": [
    "# Call the function to convert the date_of_birth and trans_date values to the formatted dates\n",
    "df_client = convert_to_date(df_client, 'date_of_birth') \n",
    "df_trans = convert_to_date(df_trans, 'trans_date')"
   ]
  },
  {
   "cell_type": "code",
   "execution_count": 16,
   "id": "3bd4f1ef",
   "metadata": {},
   "outputs": [],
   "source": [
    "# Call the function to check if a year is being read as 1900 or 2000\n",
    "df_client ['date_of_birth'] = df_client ['date_of_birth'].apply(fix_date)"
   ]
  },
  {
   "cell_type": "code",
   "execution_count": 17,
   "id": "f6947f3b",
   "metadata": {
    "scrolled": true
   },
   "outputs": [
    {
     "data": {
      "text/html": [
       "<div>\n",
       "<style scoped>\n",
       "    .dataframe tbody tr th:only-of-type {\n",
       "        vertical-align: middle;\n",
       "    }\n",
       "\n",
       "    .dataframe tbody tr th {\n",
       "        vertical-align: top;\n",
       "    }\n",
       "\n",
       "    .dataframe thead th {\n",
       "        text-align: right;\n",
       "    }\n",
       "</style>\n",
       "<table border=\"1\" class=\"dataframe\">\n",
       "  <thead>\n",
       "    <tr style=\"text-align: right;\">\n",
       "      <th></th>\n",
       "      <th>client_id</th>\n",
       "      <th>birth_number</th>\n",
       "      <th>date_of_birth</th>\n",
       "      <th>gender</th>\n",
       "      <th>age</th>\n",
       "    </tr>\n",
       "  </thead>\n",
       "  <tbody>\n",
       "    <tr>\n",
       "      <th>0</th>\n",
       "      <td>1</td>\n",
       "      <td>706213</td>\n",
       "      <td>1970-12-13</td>\n",
       "      <td>female</td>\n",
       "      <td>28</td>\n",
       "    </tr>\n",
       "    <tr>\n",
       "      <th>1</th>\n",
       "      <td>2</td>\n",
       "      <td>450204</td>\n",
       "      <td>1945-02-04</td>\n",
       "      <td>male</td>\n",
       "      <td>53</td>\n",
       "    </tr>\n",
       "    <tr>\n",
       "      <th>2</th>\n",
       "      <td>3</td>\n",
       "      <td>406009</td>\n",
       "      <td>1940-10-09</td>\n",
       "      <td>female</td>\n",
       "      <td>58</td>\n",
       "    </tr>\n",
       "    <tr>\n",
       "      <th>3</th>\n",
       "      <td>4</td>\n",
       "      <td>561201</td>\n",
       "      <td>1956-12-01</td>\n",
       "      <td>male</td>\n",
       "      <td>42</td>\n",
       "    </tr>\n",
       "    <tr>\n",
       "      <th>4</th>\n",
       "      <td>5</td>\n",
       "      <td>605703</td>\n",
       "      <td>1960-07-03</td>\n",
       "      <td>female</td>\n",
       "      <td>38</td>\n",
       "    </tr>\n",
       "  </tbody>\n",
       "</table>\n",
       "</div>"
      ],
      "text/plain": [
       "   client_id  birth_number date_of_birth  gender  age\n",
       "0          1        706213    1970-12-13  female   28\n",
       "1          2        450204    1945-02-04    male   53\n",
       "2          3        406009    1940-10-09  female   58\n",
       "3          4        561201    1956-12-01    male   42\n",
       "4          5        605703    1960-07-03  female   38"
      ]
     },
     "execution_count": 17,
     "metadata": {},
     "output_type": "execute_result"
    }
   ],
   "source": [
    "# Call the function to calculate the age\n",
    "df_client['age'] = df_client['date_of_birth'].apply (calculate_age)\n",
    "\n",
    "df_client.head()"
   ]
  },
  {
   "cell_type": "markdown",
   "id": "30247511",
   "metadata": {},
   "source": [
    "#### b) Transaction types, modes and characterization of transaction (k_symbols) for df_trans"
   ]
  },
  {
   "cell_type": "code",
   "execution_count": 18,
   "id": "b64c1995",
   "metadata": {},
   "outputs": [],
   "source": [
    "# Change df_trans > trans_char (k_symbol) values to its description\n",
    "trans_char_mapping = {'POJISTNE': 'insurance payment',\n",
    "                      'SLUZBY': 'payment of statement',\n",
    "                      'UROK': 'interest credited',\n",
    "                      'SANKC. UROK': 'sanction interest if negative balance',\n",
    "                      'SIPO': 'household payment',\n",
    "                      'DUCHOD': 'old-age pension payment',\n",
    "                      'UVER': 'loan payment'} # Define the mapping\n",
    "\n",
    "# Replace values in the 'k_symbol' column using the mapping\n",
    "df_trans['trans_char'] = df_trans['trans_char'].replace(trans_char_mapping) # Replace the values"
   ]
  },
  {
   "cell_type": "code",
   "execution_count": 19,
   "id": "d4b24197",
   "metadata": {},
   "outputs": [],
   "source": [
    "# Change df_trans > type values to credit, debit or withdrawal in cash\n",
    "trans_type_mapping = {'PRIJEM': 'credit', \n",
    "                      'VYDAJ': 'debit', \n",
    "                      'VYBER': 'withdrawal in cash'} # Define the mapping\n",
    "\n",
    "# 'VYBER': 'withdrawal in cash' comes from the trans_mode column\n",
    "\n",
    "# Replace values in the 'type' column using the mapping\n",
    "df_trans['trans_type'] = df_trans['trans_type'].replace(trans_type_mapping) # Replace the values"
   ]
  },
  {
   "cell_type": "code",
   "execution_count": 20,
   "id": "db349adb",
   "metadata": {},
   "outputs": [],
   "source": [
    "# Change df_trans > type values to its description\n",
    "trans_mode_mapping = {'VYBER KARTOU': 'credit card withdrawal', \n",
    "                      'VKLAD': 'credit in cash', \n",
    "                      'PREVOD Z UCTU': 'collection from another bank',\n",
    "                      'VYBER': 'withdrawal in cash', \n",
    "                      'PREVOD NA UCET': 'remittance to another bank'} # Define the mapping\n",
    "\n",
    "# Replace values in the 'type' column using the mapping\n",
    "df_trans['trans_mode'] = df_trans['trans_mode'].replace(trans_mode_mapping) # Replace the values"
   ]
  },
  {
   "cell_type": "markdown",
   "id": "ec90a4b6",
   "metadata": {},
   "source": [
    "#### c) Characterization of transaction (k_symbols) for df_order"
   ]
  },
  {
   "cell_type": "code",
   "execution_count": 21,
   "id": "458831f3",
   "metadata": {},
   "outputs": [],
   "source": [
    "# Change df_order > order_char (k_symbol) values to its description\n",
    "order_char_mapping = {\"POJISTNE\": 'insurance payment',\n",
    "                      \"SIPO\": 'household payment',\n",
    "                      \"LEASING\": 'leasing payment',\n",
    "                      \"UVER\": 'loan payment'} # Define the mapping\n",
    "\n",
    "# Replace values in the 'k_symbol' column using the mapping\n",
    "df_order['order_char'] = df_order['order_char'].replace(order_char_mapping) # Replace the values"
   ]
  },
  {
   "cell_type": "markdown",
   "id": "b046de5a",
   "metadata": {},
   "source": [
    "#### d) Currency convertion for df_order, df_trans and df_district"
   ]
  },
  {
   "cell_type": "code",
   "execution_count": 22,
   "id": "b0ea1eda",
   "metadata": {},
   "outputs": [],
   "source": [
    "# Change df_order/df_trans > order_amount/trans_amount values from Czech Koruna to Euro\n",
    "\n",
    "czk_to_eur = 0.040 # Define the actual exchange rate\n",
    "\n",
    "# Define a function to convert from Czech Koruna to Euro\n",
    "def convert_czk_to_eur(amount_czk):\n",
    "    return amount_czk * czk_to_eur\n",
    "\n",
    "# Apply the conversion function to the 'trans_amount' column\n",
    "df_order['order_amount'] = df_order['order_amount'].apply(convert_czk_to_eur)\n",
    "df_trans['trans_amount'] = df_trans['trans_amount'].apply(convert_czk_to_eur)\n",
    "df_district['average_salary'] = df_district['average_salary'].apply(convert_czk_to_eur)"
   ]
  },
  {
   "cell_type": "markdown",
   "id": "6d47cc36",
   "metadata": {},
   "source": [
    "#### e) Null values correction for df_trans  and df_order"
   ]
  },
  {
   "cell_type": "code",
   "execution_count": 23,
   "id": "ffcb4628",
   "metadata": {
    "scrolled": false
   },
   "outputs": [
    {
     "data": {
      "text/plain": [
       "trans_id               0\n",
       "account_id             0\n",
       "trans_date             0\n",
       "trans_type             0\n",
       "trans_mode        183114\n",
       "trans_amount           0\n",
       "trans_char        535314\n",
       "trans_receiver    760931\n",
       "dtype: int64"
      ]
     },
     "execution_count": 23,
     "metadata": {},
     "output_type": "execute_result"
    }
   ],
   "source": [
    "# Check the count of null values in the df_trans dataset\n",
    "df_trans.isnull().sum()"
   ]
  },
  {
   "cell_type": "code",
   "execution_count": 24,
   "id": "a1ac3c2a",
   "metadata": {},
   "outputs": [
    {
     "data": {
      "text/plain": [
       "order_id             0\n",
       "account_id           0\n",
       "order_receiver       0\n",
       "order_amount         0\n",
       "order_char        1379\n",
       "dtype: int64"
      ]
     },
     "execution_count": 24,
     "metadata": {},
     "output_type": "execute_result"
    }
   ],
   "source": [
    "# Check the count of null values in the df_order dataset\n",
    "df_order.isnull().sum()"
   ]
  },
  {
   "cell_type": "code",
   "execution_count": 25,
   "id": "5baedd0c",
   "metadata": {},
   "outputs": [],
   "source": [
    "# Define a function to fill the null values with the median\n",
    "def fill_with_median(df, col):\n",
    "    for column in col:\n",
    "        df[col] = df[col].fillna(df[col].median())\n",
    "    return df\n",
    "\n",
    "df_trans = fill_with_median(df_trans, 'trans_receiver')"
   ]
  },
  {
   "cell_type": "code",
   "execution_count": 26,
   "id": "73ebf781",
   "metadata": {},
   "outputs": [],
   "source": [
    "# Define a function to fill the null values with the mode\n",
    "def fill_with_mode(df, col):\n",
    "    for column in col:\n",
    "        df[col] = df[col].fillna(df[col].mode())\n",
    "    return df\n",
    "\n",
    "df_trans = fill_with_mode(df_trans, 'trans_char')\n",
    "df_order = fill_with_mode(df_order, 'order_char')"
   ]
  },
  {
   "cell_type": "code",
   "execution_count": 27,
   "id": "0694b74c",
   "metadata": {},
   "outputs": [],
   "source": [
    "df_trans['trans_mode'] = df_trans['trans_mode'].fillna('interest credited') # Replace the missing values with \"interest credited\""
   ]
  },
  {
   "cell_type": "code",
   "execution_count": 28,
   "id": "4ec5e65b",
   "metadata": {
    "scrolled": true
   },
   "outputs": [
    {
     "data": {
      "text/plain": [
       "trans_id               0\n",
       "account_id             0\n",
       "trans_date             0\n",
       "trans_type             0\n",
       "trans_mode             0\n",
       "trans_amount           0\n",
       "trans_char        535313\n",
       "trans_receiver         0\n",
       "dtype: int64"
      ]
     },
     "execution_count": 28,
     "metadata": {},
     "output_type": "execute_result"
    }
   ],
   "source": [
    "# Check the count of null values in the df_trans dataset\n",
    "df_trans.isnull().sum()"
   ]
  },
  {
   "cell_type": "code",
   "execution_count": 29,
   "id": "e3dca184",
   "metadata": {},
   "outputs": [
    {
     "data": {
      "text/plain": [
       "order_id             0\n",
       "account_id           0\n",
       "order_receiver       0\n",
       "order_amount         0\n",
       "order_char        1379\n",
       "dtype: int64"
      ]
     },
     "execution_count": 29,
     "metadata": {},
     "output_type": "execute_result"
    }
   ],
   "source": [
    "# Check the count of null values in the df_order dataset\n",
    "df_order.isnull().sum()"
   ]
  },
  {
   "cell_type": "markdown",
   "id": "1cb20720",
   "metadata": {},
   "source": [
    "# 3. Data Merging"
   ]
  },
  {
   "cell_type": "code",
   "execution_count": 30,
   "id": "5b2c1807",
   "metadata": {
    "scrolled": false
   },
   "outputs": [],
   "source": [
    "# Merge df_account and df_order by account_id\n",
    "df_merged = pd.merge(df_account, df_order, on='account_id', how='inner')\n",
    "\n",
    "# Merge df_merged and df_trans by account_id\n",
    "df_merged = pd.merge(df_merged, df_trans, on='account_id', how='left')\n",
    "\n",
    "# Merge df_merged and df_disp by account_id\n",
    "df_merged = pd.merge(df_merged, df_disp, on='account_id', how='left')\n",
    "\n",
    "# Merge df_merged and df_client by client_id\n",
    "df_merged = pd.merge(df_merged, df_client, on='client_id', how='left')\n",
    "\n",
    "# Merge df_merged and df_district by district_id\n",
    "df_merged = pd.merge(df_merged, df_district, on='district_id', how='left')"
   ]
  },
  {
   "cell_type": "code",
   "execution_count": 31,
   "id": "54a6cef4",
   "metadata": {},
   "outputs": [
    {
     "data": {
      "text/plain": [
       "Index(['account_id', 'district_id', 'order_id', 'order_receiver',\n",
       "       'order_amount', 'order_char', 'trans_id', 'trans_date', 'trans_type',\n",
       "       'trans_mode', 'trans_amount', 'trans_char', 'trans_receiver', 'disp_id',\n",
       "       'client_id', 'birth_number', 'date_of_birth', 'gender', 'age',\n",
       "       'district_name', 'district_region', 'average_salary'],\n",
       "      dtype='object')"
      ]
     },
     "execution_count": 31,
     "metadata": {},
     "output_type": "execute_result"
    }
   ],
   "source": [
    "# Print the columns\n",
    "df_merged.columns"
   ]
  },
  {
   "cell_type": "code",
   "execution_count": 32,
   "id": "01a5c64c",
   "metadata": {},
   "outputs": [],
   "source": [
    "# Drop more unnecessary data\n",
    "df_merged.drop(columns=['district_id'], inplace=True)\n",
    "df_merged.drop(columns=['order_id'], inplace=True)\n",
    "df_merged.drop(columns=['trans_id'], inplace=True)\n",
    "df_merged.drop(columns=['disp_id'], inplace=True)\n",
    "df_merged.drop(columns=['client_id'], inplace=True)\n",
    "df_merged.drop(columns=['birth_number'], inplace=True)"
   ]
  },
  {
   "cell_type": "code",
   "execution_count": 33,
   "id": "53c458ac",
   "metadata": {},
   "outputs": [],
   "source": [
    "# Define the order of the columns\n",
    "df_ordered = ['account_id', \n",
    "              'date_of_birth',\n",
    "              'gender',\n",
    "              'age',\n",
    "              'order_amount', \n",
    "              'order_receiver', \n",
    "              'order_char',\n",
    "              'trans_date',\n",
    "              'trans_type', \n",
    "              'trans_mode', \n",
    "              'trans_amount',\n",
    "              'trans_char',\n",
    "              'trans_receiver',\n",
    "              'district_region', \n",
    "              'district_name', \n",
    "              'average_salary']\n",
    "\n",
    "# Reorder the columns\n",
    "df_merged = df_merged[df_ordered]"
   ]
  },
  {
   "cell_type": "code",
   "execution_count": 34,
   "id": "1010479e",
   "metadata": {},
   "outputs": [
    {
     "data": {
      "text/plain": [
       "Index(['account_id', 'date_of_birth', 'gender', 'age', 'order_amount',\n",
       "       'order_receiver', 'order_char', 'trans_date', 'trans_type',\n",
       "       'trans_mode', 'trans_amount', 'trans_char', 'trans_receiver',\n",
       "       'district_region', 'district_name', 'average_salary'],\n",
       "      dtype='object')"
      ]
     },
     "execution_count": 34,
     "metadata": {},
     "output_type": "execute_result"
    }
   ],
   "source": [
    "# Print the columns\n",
    "df_merged.columns"
   ]
  },
  {
   "cell_type": "markdown",
   "id": "0c34235b",
   "metadata": {},
   "source": [
    "# 4. Data Understanding"
   ]
  },
  {
   "cell_type": "code",
   "execution_count": 35,
   "id": "c381f4d9",
   "metadata": {
    "scrolled": true
   },
   "outputs": [
    {
     "data": {
      "text/plain": [
       "(2087865, 16)"
      ]
     },
     "execution_count": 35,
     "metadata": {},
     "output_type": "execute_result"
    }
   ],
   "source": [
    "# Print the number of rows and columns\n",
    "df_merged.shape"
   ]
  },
  {
   "cell_type": "code",
   "execution_count": 36,
   "id": "13c5e5c3",
   "metadata": {},
   "outputs": [
    {
     "name": "stdout",
     "output_type": "stream",
     "text": [
      "<class 'pandas.core.frame.DataFrame'>\n",
      "RangeIndex: 2087865 entries, 0 to 2087864\n",
      "Data columns (total 16 columns):\n",
      " #   Column           Dtype         \n",
      "---  ------           -----         \n",
      " 0   account_id       int64         \n",
      " 1   date_of_birth    datetime64[ns]\n",
      " 2   gender           object        \n",
      " 3   age              int64         \n",
      " 4   order_amount     float64       \n",
      " 5   order_receiver   int64         \n",
      " 6   order_char       object        \n",
      " 7   trans_date       datetime64[ns]\n",
      " 8   trans_type       object        \n",
      " 9   trans_mode       object        \n",
      " 10  trans_amount     float64       \n",
      " 11  trans_char       object        \n",
      " 12  trans_receiver   float64       \n",
      " 13  district_region  object        \n",
      " 14  district_name    object        \n",
      " 15  average_salary   float64       \n",
      "dtypes: datetime64[ns](2), float64(4), int64(3), object(7)\n",
      "memory usage: 254.9+ MB\n"
     ]
    }
   ],
   "source": [
    "# Print information about the structure, data types, memory usage and missing values\n",
    "df_merged.info()"
   ]
  },
  {
   "cell_type": "code",
   "execution_count": 37,
   "id": "a02ee8c9",
   "metadata": {
    "scrolled": true
   },
   "outputs": [
    {
     "data": {
      "text/html": [
       "<div>\n",
       "<style scoped>\n",
       "    .dataframe tbody tr th:only-of-type {\n",
       "        vertical-align: middle;\n",
       "    }\n",
       "\n",
       "    .dataframe tbody tr th {\n",
       "        vertical-align: top;\n",
       "    }\n",
       "\n",
       "    .dataframe thead th {\n",
       "        text-align: right;\n",
       "    }\n",
       "</style>\n",
       "<table border=\"1\" class=\"dataframe\">\n",
       "  <thead>\n",
       "    <tr style=\"text-align: right;\">\n",
       "      <th></th>\n",
       "      <th>account_id</th>\n",
       "      <th>date_of_birth</th>\n",
       "      <th>gender</th>\n",
       "      <th>age</th>\n",
       "      <th>order_amount</th>\n",
       "      <th>order_receiver</th>\n",
       "      <th>order_char</th>\n",
       "      <th>trans_date</th>\n",
       "      <th>trans_type</th>\n",
       "      <th>trans_mode</th>\n",
       "      <th>trans_amount</th>\n",
       "      <th>trans_char</th>\n",
       "      <th>trans_receiver</th>\n",
       "      <th>district_region</th>\n",
       "      <th>district_name</th>\n",
       "      <th>average_salary</th>\n",
       "    </tr>\n",
       "  </thead>\n",
       "  <tbody>\n",
       "    <tr>\n",
       "      <th>0</th>\n",
       "      <td>576</td>\n",
       "      <td>1936-01-11</td>\n",
       "      <td>female</td>\n",
       "      <td>62</td>\n",
       "      <td>146.48</td>\n",
       "      <td>71033382</td>\n",
       "      <td>household payment</td>\n",
       "      <td>1993-01-01</td>\n",
       "      <td>credit</td>\n",
       "      <td>credit in cash</td>\n",
       "      <td>36.000</td>\n",
       "      <td>NaN</td>\n",
       "      <td>45750951.0</td>\n",
       "      <td>south Moravia</td>\n",
       "      <td>Brno - venkov</td>\n",
       "      <td>349.72</td>\n",
       "    </tr>\n",
       "    <tr>\n",
       "      <th>1</th>\n",
       "      <td>576</td>\n",
       "      <td>1935-03-17</td>\n",
       "      <td>male</td>\n",
       "      <td>63</td>\n",
       "      <td>146.48</td>\n",
       "      <td>71033382</td>\n",
       "      <td>household payment</td>\n",
       "      <td>1993-01-01</td>\n",
       "      <td>credit</td>\n",
       "      <td>credit in cash</td>\n",
       "      <td>36.000</td>\n",
       "      <td>NaN</td>\n",
       "      <td>45750951.0</td>\n",
       "      <td>south Moravia</td>\n",
       "      <td>Brno - venkov</td>\n",
       "      <td>349.72</td>\n",
       "    </tr>\n",
       "    <tr>\n",
       "      <th>2</th>\n",
       "      <td>576</td>\n",
       "      <td>1936-01-11</td>\n",
       "      <td>female</td>\n",
       "      <td>62</td>\n",
       "      <td>146.48</td>\n",
       "      <td>71033382</td>\n",
       "      <td>household payment</td>\n",
       "      <td>1993-01-11</td>\n",
       "      <td>credit</td>\n",
       "      <td>collection from another bank</td>\n",
       "      <td>248.280</td>\n",
       "      <td>old-age pension payment</td>\n",
       "      <td>30300313.0</td>\n",
       "      <td>south Moravia</td>\n",
       "      <td>Brno - venkov</td>\n",
       "      <td>349.72</td>\n",
       "    </tr>\n",
       "    <tr>\n",
       "      <th>3</th>\n",
       "      <td>576</td>\n",
       "      <td>1935-03-17</td>\n",
       "      <td>male</td>\n",
       "      <td>63</td>\n",
       "      <td>146.48</td>\n",
       "      <td>71033382</td>\n",
       "      <td>household payment</td>\n",
       "      <td>1993-01-11</td>\n",
       "      <td>credit</td>\n",
       "      <td>collection from another bank</td>\n",
       "      <td>248.280</td>\n",
       "      <td>old-age pension payment</td>\n",
       "      <td>30300313.0</td>\n",
       "      <td>south Moravia</td>\n",
       "      <td>Brno - venkov</td>\n",
       "      <td>349.72</td>\n",
       "    </tr>\n",
       "    <tr>\n",
       "      <th>4</th>\n",
       "      <td>576</td>\n",
       "      <td>1936-01-11</td>\n",
       "      <td>female</td>\n",
       "      <td>62</td>\n",
       "      <td>146.48</td>\n",
       "      <td>71033382</td>\n",
       "      <td>household payment</td>\n",
       "      <td>1993-01-31</td>\n",
       "      <td>credit</td>\n",
       "      <td>interest credited</td>\n",
       "      <td>0.804</td>\n",
       "      <td>interest credited</td>\n",
       "      <td>45750951.0</td>\n",
       "      <td>south Moravia</td>\n",
       "      <td>Brno - venkov</td>\n",
       "      <td>349.72</td>\n",
       "    </tr>\n",
       "    <tr>\n",
       "      <th>5</th>\n",
       "      <td>576</td>\n",
       "      <td>1935-03-17</td>\n",
       "      <td>male</td>\n",
       "      <td>63</td>\n",
       "      <td>146.48</td>\n",
       "      <td>71033382</td>\n",
       "      <td>household payment</td>\n",
       "      <td>1993-01-31</td>\n",
       "      <td>credit</td>\n",
       "      <td>interest credited</td>\n",
       "      <td>0.804</td>\n",
       "      <td>interest credited</td>\n",
       "      <td>45750951.0</td>\n",
       "      <td>south Moravia</td>\n",
       "      <td>Brno - venkov</td>\n",
       "      <td>349.72</td>\n",
       "    </tr>\n",
       "    <tr>\n",
       "      <th>6</th>\n",
       "      <td>576</td>\n",
       "      <td>1936-01-11</td>\n",
       "      <td>female</td>\n",
       "      <td>62</td>\n",
       "      <td>146.48</td>\n",
       "      <td>71033382</td>\n",
       "      <td>household payment</td>\n",
       "      <td>1993-02-11</td>\n",
       "      <td>credit</td>\n",
       "      <td>collection from another bank</td>\n",
       "      <td>248.280</td>\n",
       "      <td>old-age pension payment</td>\n",
       "      <td>30300313.0</td>\n",
       "      <td>south Moravia</td>\n",
       "      <td>Brno - venkov</td>\n",
       "      <td>349.72</td>\n",
       "    </tr>\n",
       "    <tr>\n",
       "      <th>7</th>\n",
       "      <td>576</td>\n",
       "      <td>1935-03-17</td>\n",
       "      <td>male</td>\n",
       "      <td>63</td>\n",
       "      <td>146.48</td>\n",
       "      <td>71033382</td>\n",
       "      <td>household payment</td>\n",
       "      <td>1993-02-11</td>\n",
       "      <td>credit</td>\n",
       "      <td>collection from another bank</td>\n",
       "      <td>248.280</td>\n",
       "      <td>old-age pension payment</td>\n",
       "      <td>30300313.0</td>\n",
       "      <td>south Moravia</td>\n",
       "      <td>Brno - venkov</td>\n",
       "      <td>349.72</td>\n",
       "    </tr>\n",
       "    <tr>\n",
       "      <th>8</th>\n",
       "      <td>576</td>\n",
       "      <td>1936-01-11</td>\n",
       "      <td>female</td>\n",
       "      <td>62</td>\n",
       "      <td>146.48</td>\n",
       "      <td>71033382</td>\n",
       "      <td>household payment</td>\n",
       "      <td>1993-02-28</td>\n",
       "      <td>credit</td>\n",
       "      <td>interest credited</td>\n",
       "      <td>1.184</td>\n",
       "      <td>interest credited</td>\n",
       "      <td>45750951.0</td>\n",
       "      <td>south Moravia</td>\n",
       "      <td>Brno - venkov</td>\n",
       "      <td>349.72</td>\n",
       "    </tr>\n",
       "    <tr>\n",
       "      <th>9</th>\n",
       "      <td>576</td>\n",
       "      <td>1935-03-17</td>\n",
       "      <td>male</td>\n",
       "      <td>63</td>\n",
       "      <td>146.48</td>\n",
       "      <td>71033382</td>\n",
       "      <td>household payment</td>\n",
       "      <td>1993-02-28</td>\n",
       "      <td>credit</td>\n",
       "      <td>interest credited</td>\n",
       "      <td>1.184</td>\n",
       "      <td>interest credited</td>\n",
       "      <td>45750951.0</td>\n",
       "      <td>south Moravia</td>\n",
       "      <td>Brno - venkov</td>\n",
       "      <td>349.72</td>\n",
       "    </tr>\n",
       "  </tbody>\n",
       "</table>\n",
       "</div>"
      ],
      "text/plain": [
       "   account_id date_of_birth  gender  age  order_amount  order_receiver  \\\n",
       "0         576    1936-01-11  female   62        146.48        71033382   \n",
       "1         576    1935-03-17    male   63        146.48        71033382   \n",
       "2         576    1936-01-11  female   62        146.48        71033382   \n",
       "3         576    1935-03-17    male   63        146.48        71033382   \n",
       "4         576    1936-01-11  female   62        146.48        71033382   \n",
       "5         576    1935-03-17    male   63        146.48        71033382   \n",
       "6         576    1936-01-11  female   62        146.48        71033382   \n",
       "7         576    1935-03-17    male   63        146.48        71033382   \n",
       "8         576    1936-01-11  female   62        146.48        71033382   \n",
       "9         576    1935-03-17    male   63        146.48        71033382   \n",
       "\n",
       "          order_char trans_date trans_type                    trans_mode  \\\n",
       "0  household payment 1993-01-01     credit                credit in cash   \n",
       "1  household payment 1993-01-01     credit                credit in cash   \n",
       "2  household payment 1993-01-11     credit  collection from another bank   \n",
       "3  household payment 1993-01-11     credit  collection from another bank   \n",
       "4  household payment 1993-01-31     credit             interest credited   \n",
       "5  household payment 1993-01-31     credit             interest credited   \n",
       "6  household payment 1993-02-11     credit  collection from another bank   \n",
       "7  household payment 1993-02-11     credit  collection from another bank   \n",
       "8  household payment 1993-02-28     credit             interest credited   \n",
       "9  household payment 1993-02-28     credit             interest credited   \n",
       "\n",
       "   trans_amount               trans_char  trans_receiver district_region  \\\n",
       "0        36.000                      NaN      45750951.0   south Moravia   \n",
       "1        36.000                      NaN      45750951.0   south Moravia   \n",
       "2       248.280  old-age pension payment      30300313.0   south Moravia   \n",
       "3       248.280  old-age pension payment      30300313.0   south Moravia   \n",
       "4         0.804        interest credited      45750951.0   south Moravia   \n",
       "5         0.804        interest credited      45750951.0   south Moravia   \n",
       "6       248.280  old-age pension payment      30300313.0   south Moravia   \n",
       "7       248.280  old-age pension payment      30300313.0   south Moravia   \n",
       "8         1.184        interest credited      45750951.0   south Moravia   \n",
       "9         1.184        interest credited      45750951.0   south Moravia   \n",
       "\n",
       "   district_name  average_salary  \n",
       "0  Brno - venkov          349.72  \n",
       "1  Brno - venkov          349.72  \n",
       "2  Brno - venkov          349.72  \n",
       "3  Brno - venkov          349.72  \n",
       "4  Brno - venkov          349.72  \n",
       "5  Brno - venkov          349.72  \n",
       "6  Brno - venkov          349.72  \n",
       "7  Brno - venkov          349.72  \n",
       "8  Brno - venkov          349.72  \n",
       "9  Brno - venkov          349.72  "
      ]
     },
     "execution_count": 37,
     "metadata": {},
     "output_type": "execute_result"
    }
   ],
   "source": [
    "# Print the first 10 rows of df_merged\n",
    "df_merged.head(10)"
   ]
  },
  {
   "cell_type": "code",
   "execution_count": 38,
   "id": "a5881c6a",
   "metadata": {
    "scrolled": true
   },
   "outputs": [
    {
     "data": {
      "text/html": [
       "<div>\n",
       "<style scoped>\n",
       "    .dataframe tbody tr th:only-of-type {\n",
       "        vertical-align: middle;\n",
       "    }\n",
       "\n",
       "    .dataframe tbody tr th {\n",
       "        vertical-align: top;\n",
       "    }\n",
       "\n",
       "    .dataframe thead th {\n",
       "        text-align: right;\n",
       "    }\n",
       "</style>\n",
       "<table border=\"1\" class=\"dataframe\">\n",
       "  <thead>\n",
       "    <tr style=\"text-align: right;\">\n",
       "      <th></th>\n",
       "      <th>account_id</th>\n",
       "      <th>date_of_birth</th>\n",
       "      <th>age</th>\n",
       "      <th>order_amount</th>\n",
       "      <th>order_receiver</th>\n",
       "      <th>trans_date</th>\n",
       "      <th>trans_amount</th>\n",
       "      <th>trans_receiver</th>\n",
       "      <th>average_salary</th>\n",
       "    </tr>\n",
       "  </thead>\n",
       "  <tbody>\n",
       "    <tr>\n",
       "      <th>count</th>\n",
       "      <td>2.087865e+06</td>\n",
       "      <td>2087865</td>\n",
       "      <td>2.087865e+06</td>\n",
       "      <td>2.087865e+06</td>\n",
       "      <td>2.087865e+06</td>\n",
       "      <td>2087865</td>\n",
       "      <td>2.087865e+06</td>\n",
       "      <td>2.087865e+06</td>\n",
       "      <td>2.087865e+06</td>\n",
       "    </tr>\n",
       "    <tr>\n",
       "      <th>mean</th>\n",
       "      <td>3.101550e+03</td>\n",
       "      <td>1955-03-02 20:45:00.816000960</td>\n",
       "      <td>4.333565e+01</td>\n",
       "      <td>1.265136e+02</td>\n",
       "      <td>4.938843e+07</td>\n",
       "      <td>1997-01-07 15:21:10.028665728</td>\n",
       "      <td>2.251400e+02</td>\n",
       "      <td>4.610075e+07</td>\n",
       "      <td>3.817621e+02</td>\n",
       "    </tr>\n",
       "    <tr>\n",
       "      <th>min</th>\n",
       "      <td>1.000000e+00</td>\n",
       "      <td>1911-08-20 00:00:00</td>\n",
       "      <td>1.100000e+01</td>\n",
       "      <td>4.000000e-02</td>\n",
       "      <td>3.990000e+02</td>\n",
       "      <td>1993-01-01 00:00:00</td>\n",
       "      <td>0.000000e+00</td>\n",
       "      <td>0.000000e+00</td>\n",
       "      <td>3.244000e+02</td>\n",
       "    </tr>\n",
       "    <tr>\n",
       "      <th>25%</th>\n",
       "      <td>1.253000e+03</td>\n",
       "      <td>1943-05-27 00:00:00</td>\n",
       "      <td>3.000000e+01</td>\n",
       "      <td>4.280000e+01</td>\n",
       "      <td>2.414495e+07</td>\n",
       "      <td>1996-01-20 00:00:00</td>\n",
       "      <td>5.984000e+00</td>\n",
       "      <td>4.575095e+07</td>\n",
       "      <td>3.421600e+02</td>\n",
       "    </tr>\n",
       "    <tr>\n",
       "      <th>50%</th>\n",
       "      <td>2.494000e+03</td>\n",
       "      <td>1955-11-04 00:00:00</td>\n",
       "      <td>4.300000e+01</td>\n",
       "      <td>9.788000e+01</td>\n",
       "      <td>4.965243e+07</td>\n",
       "      <td>1997-04-13 00:00:00</td>\n",
       "      <td>7.936000e+01</td>\n",
       "      <td>4.575095e+07</td>\n",
       "      <td>3.596400e+02</td>\n",
       "    </tr>\n",
       "    <tr>\n",
       "      <th>75%</th>\n",
       "      <td>3.754000e+03</td>\n",
       "      <td>1968-07-22 00:00:00</td>\n",
       "      <td>5.500000e+01</td>\n",
       "      <td>1.818000e+02</td>\n",
       "      <td>7.400112e+07</td>\n",
       "      <td>1998-02-28 00:00:00</td>\n",
       "      <td>2.541600e+02</td>\n",
       "      <td>4.575095e+07</td>\n",
       "      <td>3.968000e+02</td>\n",
       "    </tr>\n",
       "    <tr>\n",
       "      <th>max</th>\n",
       "      <td>1.136200e+04</td>\n",
       "      <td>1987-09-27 00:00:00</td>\n",
       "      <td>8.700000e+01</td>\n",
       "      <td>5.952800e+02</td>\n",
       "      <td>9.999420e+07</td>\n",
       "      <td>1998-12-31 00:00:00</td>\n",
       "      <td>3.496000e+03</td>\n",
       "      <td>9.999420e+07</td>\n",
       "      <td>5.016400e+02</td>\n",
       "    </tr>\n",
       "    <tr>\n",
       "      <th>std</th>\n",
       "      <td>2.656577e+03</td>\n",
       "      <td>NaN</td>\n",
       "      <td>1.585842e+01</td>\n",
       "      <td>1.076995e+02</td>\n",
       "      <td>2.886750e+07</td>\n",
       "      <td>NaN</td>\n",
       "      <td>3.687227e+02</td>\n",
       "      <td>1.823660e+07</td>\n",
       "      <td>5.354128e+01</td>\n",
       "    </tr>\n",
       "  </tbody>\n",
       "</table>\n",
       "</div>"
      ],
      "text/plain": [
       "         account_id                  date_of_birth           age  \\\n",
       "count  2.087865e+06                        2087865  2.087865e+06   \n",
       "mean   3.101550e+03  1955-03-02 20:45:00.816000960  4.333565e+01   \n",
       "min    1.000000e+00            1911-08-20 00:00:00  1.100000e+01   \n",
       "25%    1.253000e+03            1943-05-27 00:00:00  3.000000e+01   \n",
       "50%    2.494000e+03            1955-11-04 00:00:00  4.300000e+01   \n",
       "75%    3.754000e+03            1968-07-22 00:00:00  5.500000e+01   \n",
       "max    1.136200e+04            1987-09-27 00:00:00  8.700000e+01   \n",
       "std    2.656577e+03                            NaN  1.585842e+01   \n",
       "\n",
       "       order_amount  order_receiver                     trans_date  \\\n",
       "count  2.087865e+06    2.087865e+06                        2087865   \n",
       "mean   1.265136e+02    4.938843e+07  1997-01-07 15:21:10.028665728   \n",
       "min    4.000000e-02    3.990000e+02            1993-01-01 00:00:00   \n",
       "25%    4.280000e+01    2.414495e+07            1996-01-20 00:00:00   \n",
       "50%    9.788000e+01    4.965243e+07            1997-04-13 00:00:00   \n",
       "75%    1.818000e+02    7.400112e+07            1998-02-28 00:00:00   \n",
       "max    5.952800e+02    9.999420e+07            1998-12-31 00:00:00   \n",
       "std    1.076995e+02    2.886750e+07                            NaN   \n",
       "\n",
       "       trans_amount  trans_receiver  average_salary  \n",
       "count  2.087865e+06    2.087865e+06    2.087865e+06  \n",
       "mean   2.251400e+02    4.610075e+07    3.817621e+02  \n",
       "min    0.000000e+00    0.000000e+00    3.244000e+02  \n",
       "25%    5.984000e+00    4.575095e+07    3.421600e+02  \n",
       "50%    7.936000e+01    4.575095e+07    3.596400e+02  \n",
       "75%    2.541600e+02    4.575095e+07    3.968000e+02  \n",
       "max    3.496000e+03    9.999420e+07    5.016400e+02  \n",
       "std    3.687227e+02    1.823660e+07    5.354128e+01  "
      ]
     },
     "execution_count": 38,
     "metadata": {},
     "output_type": "execute_result"
    }
   ],
   "source": [
    "# Print the summary to visualize information such as count, mean, standard deviation, min and max\n",
    "df_merged.describe()"
   ]
  },
  {
   "cell_type": "code",
   "execution_count": 39,
   "id": "d1c9670d",
   "metadata": {
    "scrolled": true
   },
   "outputs": [
    {
     "name": "stdout",
     "output_type": "stream",
     "text": [
      "Average Age: 43.335646222337175\n"
     ]
    },
    {
     "data": {
      "image/png": "[encoded data removed]",
      "text/plain": [
       "<Figure size 720x432 with 1 Axes>"
      ]
     },
     "metadata": {
      "needs_background": "light"
     },
     "output_type": "display_data"
    }
   ],
   "source": [
    "# Count and print the records in the \"age\" column\n",
    "average_age_mean = df_merged['age'].mean()\n",
    "print(\"Average Age:\", average_age_mean)\n",
    "\n",
    "# Plot the records distribution by age\n",
    "plt.figure(figsize=(10, 6))\n",
    "plt.hist(df_merged['age'], bins=20, color='#B0C5A4', edgecolor='black')\n",
    "plt.title('Distribution of Records by Age', fontsize=16)\n",
    "plt.xlabel('Age', fontsize=14)\n",
    "plt.ylabel('Number of Records', fontsize=14)\n",
    "plt.grid(True)\n",
    "plt.show()"
   ]
  },
  {
   "cell_type": "code",
   "execution_count": 40,
   "id": "a057a21a",
   "metadata": {},
   "outputs": [
    {
     "name": "stdout",
     "output_type": "stream",
     "text": [
      "Average Salary: 381.7621442957279\n"
     ]
    },
    {
     "data": {
      "image/png": "[encoded data removed]",
      "text/plain": [
       "<Figure size 720x432 with 1 Axes>"
      ]
     },
     "metadata": {
      "needs_background": "light"
     },
     "output_type": "display_data"
    }
   ],
   "source": [
    "# Count and print the records in the \"average_salary\" column\n",
    "average_salary_mean = df_merged['average_salary'].mean()\n",
    "print(\"Average Salary:\", average_salary_mean)\n",
    "\n",
    "# Plot the records distribution by average salary\n",
    "plt.figure(figsize=(10, 6))\n",
    "plt.hist(df_merged['average_salary'], bins=20, color='#D37676', edgecolor='black')\n",
    "plt.title('Distribution of Records by Average Salary', fontsize=16)\n",
    "plt.xlabel('Average Salary', fontsize=14)\n",
    "plt.ylabel('Number of Records', fontsize=14)\n",
    "plt.grid(True)\n",
    "plt.show()"
   ]
  },
  {
   "cell_type": "code",
   "execution_count": 41,
   "id": "4b18a750",
   "metadata": {},
   "outputs": [
    {
     "name": "stdout",
     "output_type": "stream",
     "text": [
      "trans_type\n",
      "debit                 1343035\n",
      "credit                 716004\n",
      "withdrawal in cash      28826\n",
      "Name: count, dtype: int64\n"
     ]
    },
    {
     "data": {
      "image/png": "[encoded data removed]",
      "text/plain": [
       "<Figure size 720x432 with 1 Axes>"
      ]
     },
     "metadata": {
      "needs_background": "light"
     },
     "output_type": "display_data"
    }
   ],
   "source": [
    "# Count and print the records in the \"trans_type\" column\n",
    "trans_type_counts = df_merged['trans_type'].value_counts()\n",
    "print(trans_type_counts)\n",
    "\n",
    "# Plot the records distribution by transaction type\n",
    "plt.figure(figsize=(10, 6))\n",
    "df_merged['trans_type'].value_counts().sort_index().plot(kind='bar', color='#EBC49F', edgecolor='black')\n",
    "plt.title('Distribution of Records by Transaction Type', fontsize=16)\n",
    "plt.xlabel('Transaction Type', fontsize=14)\n",
    "plt.ylabel('Number of Records', fontsize=14)\n",
    "plt.xticks(rotation=0)\n",
    "plt.grid(True)\n",
    "plt.show()"
   ]
  },
  {
   "cell_type": "code",
   "execution_count": 42,
   "id": "eae187a5",
   "metadata": {
    "scrolled": false
   },
   "outputs": [
    {
     "name": "stdout",
     "output_type": "stream",
     "text": [
      "gender\n",
      "male      1045670\n",
      "female    1042195\n",
      "Name: count, dtype: int64\n"
     ]
    },
    {
     "data": {
      "image/png": "[encoded data removed]",
      "text/plain": [
       "<Figure size 720x432 with 1 Axes>"
      ]
     },
     "metadata": {
      "needs_background": "light"
     },
     "output_type": "display_data"
    }
   ],
   "source": [
    "# Count and print the records in the \"gender\" column\n",
    "gender_counts = df_merged['gender'].value_counts()\n",
    "print(gender_counts)\n",
    "\n",
    "# Plot the records distribution by gender\n",
    "plt.figure(figsize=(10, 6))\n",
    "df_merged['gender'].value_counts().sort_index().plot(kind='bar', color='#F1EF99', edgecolor='black')\n",
    "plt.title('Distribution of Records by Gender', fontsize=16)\n",
    "plt.xlabel('Gender', fontsize=14)\n",
    "plt.ylabel('Number of Records', fontsize=14)\n",
    "plt.xticks(rotation=0)\n",
    "plt.grid(True)\n",
    "plt.show()"
   ]
  },
  {
   "cell_type": "code",
   "execution_count": 53,
   "id": "1bc22c77",
   "metadata": {},
   "outputs": [
    {
     "data": {
      "image/png": "[encoded data removed]",
      "text/plain": [
       "<Figure size 864x432 with 1 Axes>"
      ]
     },
     "metadata": {
      "needs_background": "light"
     },
     "output_type": "display_data"
    }
   ],
   "source": [
    "# Calculate total transaction amount for each district\n",
    "district_transaction_totals = df_merged.groupby('district_name')['trans_amount'].sum() / 1_000_000  # Divide by 1 million for millions\n",
    "\n",
    "# Select top 20 districts by total transaction amount\n",
    "top_10_districts = district_transaction_totals.nlargest(20).index\n",
    "\n",
    "# Filter dataframe to include only data for top 20 districts\n",
    "df_top_10 = df_merged[df_merged['district_name'].isin(top_10_districts)]\n",
    "\n",
    "# Plotting\n",
    "plt.figure(figsize=(12, 6))\n",
    "plt.xticks(rotation=45)  # Rotate x-axis labels for better readability\n",
    "\n",
    "# Create a bar plot to visualize the total sum of transactions across top 20 districts\n",
    "plt.bar(top_10_districts, district_transaction_totals[top_10_districts])\n",
    "\n",
    "plt.xlabel('District Name')\n",
    "plt.ylabel('Total Transaction Amount (in Millions)')\n",
    "plt.title('Total Transaction Amounts Across Top 20 Districts')\n",
    "plt.grid(True)\n",
    "plt.tight_layout()\n",
    "\n",
    "# Show plot\n",
    "plt.show()\n",
    "\n"
   ]
  },
  {
   "cell_type": "code",
   "execution_count": null,
   "id": "9239063a",
   "metadata": {},
   "outputs": [],
   "source": []
  },
  {
   "cell_type": "code",
   "execution_count": null,
   "id": "90c83a31",
   "metadata": {},
   "outputs": [],
   "source": []
  }
 ],
 "metadata": {
  "kernelspec": {
   "display_name": "Python 3 (ipykernel)",
   "language": "python",
   "name": "python3"
  },
  "language_info": {
   "codemirror_mode": {
    "name": "ipython",
    "version": 3
   },
   "file_extension": ".py",
   "mimetype": "text/x-python",
   "name": "python",
   "nbconvert_exporter": "python",
   "pygments_lexer": "ipython3",
   "version": "3.9.12"
  }
 },
 "nbformat": 4,
 "nbformat_minor": 5
}
