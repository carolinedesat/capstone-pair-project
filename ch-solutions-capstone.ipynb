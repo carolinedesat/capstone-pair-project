{
 "cells": [
  {
   "cell_type": "markdown",
   "id": "8c096951",
   "metadata": {},
   "source": [
    "# 1. Libraries and Datasets\n",
    "##### Import the libraries, read the datasets and display the first five rows of each of them."
   ]
  },
  {
   "cell_type": "code",
   "execution_count": 866,
   "id": "378918f2",
   "metadata": {},
   "outputs": [],
   "source": [
    "# Import the required libraries\n",
    "import pandas as pd\n",
    "import numpy as np\n",
    "import matplotlib.pyplot as plt\n",
    "import seaborn as sns\n",
    "from sklearn.model_selection import train_test_split\n",
    "from sklearn.linear_model import LinearRegression\n",
    "from sklearn import metrics\n",
    "from sklearn.decomposition import PCA\n",
    "from sklearn.preprocessing import StandardScaler\n",
    "from datetime import datetime\n",
    "from datetime import date"
   ]
  },
  {
   "cell_type": "code",
   "execution_count": 867,
   "id": "237a3b18",
   "metadata": {},
   "outputs": [
    {
     "name": "stderr",
     "output_type": "stream",
     "text": [
      "C:\\Users\\carol\\anaconda3\\lib\\site-packages\\IPython\\core\\interactiveshell.py:3444: DtypeWarning: Columns (8) have mixed types.Specify dtype option on import or set low_memory=False.\n",
      "  exec(code_obj, self.user_global_ns, self.user_ns)\n"
     ]
    }
   ],
   "source": [
    "# Import the datasets, \n",
    "# Specify the delimeter and header\n",
    "\n",
    "# Describes static characteristics of an account\n",
    "df_account = pd.read_csv('account.csv', delimiter=';', header=0)\n",
    "\n",
    "# Describes a credit card issued to an account\n",
    "# df_card = pd.read_csv('card.csv', delimiter=';', header=0)\n",
    "\n",
    "# Describes characteristics of a client\n",
    "df_client = pd.read_csv('client.csv', delimiter=';', header=0)\n",
    "\n",
    "# Relates together a client with an account\n",
    "df_disp = pd.read_csv('disp.csv', delimiter=';', header=0)\n",
    "\n",
    "# Describes demographic characteristics of a district\n",
    "df_district = pd.read_csv('district.csv', delimiter=';', header=0)\n",
    "\n",
    "# Describes a loan granted for a given account\n",
    "# df_loan = pd.read_csv('loan.csv', delimiter=';', header=0)\n",
    "\n",
    "# Describes characteristics of a payment order\n",
    "df_order = pd.read_csv('order.csv', delimiter=';', header=0, na_values=' ') # Replace empty entries by Na\n",
    "\n",
    "# Describes one transaction on an account\n",
    "df_trans = pd.read_csv('trans.csv', delimiter=';', header=0, na_values=' ') # Replace empty entries by Na"
   ]
  },
  {
   "cell_type": "code",
   "execution_count": 868,
   "id": "9eefc765",
   "metadata": {},
   "outputs": [
    {
     "data": {
      "text/html": [
       "<div>\n",
       "<style scoped>\n",
       "    .dataframe tbody tr th:only-of-type {\n",
       "        vertical-align: middle;\n",
       "    }\n",
       "\n",
       "    .dataframe tbody tr th {\n",
       "        vertical-align: top;\n",
       "    }\n",
       "\n",
       "    .dataframe thead th {\n",
       "        text-align: right;\n",
       "    }\n",
       "</style>\n",
       "<table border=\"1\" class=\"dataframe\">\n",
       "  <thead>\n",
       "    <tr style=\"text-align: right;\">\n",
       "      <th></th>\n",
       "      <th>account_id</th>\n",
       "      <th>district_id</th>\n",
       "      <th>frequency</th>\n",
       "      <th>date</th>\n",
       "    </tr>\n",
       "  </thead>\n",
       "  <tbody>\n",
       "    <tr>\n",
       "      <th>0</th>\n",
       "      <td>576</td>\n",
       "      <td>55</td>\n",
       "      <td>POPLATEK MESICNE</td>\n",
       "      <td>930101</td>\n",
       "    </tr>\n",
       "    <tr>\n",
       "      <th>1</th>\n",
       "      <td>3818</td>\n",
       "      <td>74</td>\n",
       "      <td>POPLATEK MESICNE</td>\n",
       "      <td>930101</td>\n",
       "    </tr>\n",
       "    <tr>\n",
       "      <th>2</th>\n",
       "      <td>704</td>\n",
       "      <td>55</td>\n",
       "      <td>POPLATEK MESICNE</td>\n",
       "      <td>930101</td>\n",
       "    </tr>\n",
       "    <tr>\n",
       "      <th>3</th>\n",
       "      <td>2378</td>\n",
       "      <td>16</td>\n",
       "      <td>POPLATEK MESICNE</td>\n",
       "      <td>930101</td>\n",
       "    </tr>\n",
       "    <tr>\n",
       "      <th>4</th>\n",
       "      <td>2632</td>\n",
       "      <td>24</td>\n",
       "      <td>POPLATEK MESICNE</td>\n",
       "      <td>930102</td>\n",
       "    </tr>\n",
       "  </tbody>\n",
       "</table>\n",
       "</div>"
      ],
      "text/plain": [
       "   account_id  district_id         frequency    date\n",
       "0         576           55  POPLATEK MESICNE  930101\n",
       "1        3818           74  POPLATEK MESICNE  930101\n",
       "2         704           55  POPLATEK MESICNE  930101\n",
       "3        2378           16  POPLATEK MESICNE  930101\n",
       "4        2632           24  POPLATEK MESICNE  930102"
      ]
     },
     "execution_count": 868,
     "metadata": {},
     "output_type": "execute_result"
    }
   ],
   "source": [
    "df_account.head()"
   ]
  },
  {
   "cell_type": "code",
   "execution_count": 869,
   "id": "c9e72912",
   "metadata": {},
   "outputs": [
    {
     "data": {
      "text/html": [
       "<div>\n",
       "<style scoped>\n",
       "    .dataframe tbody tr th:only-of-type {\n",
       "        vertical-align: middle;\n",
       "    }\n",
       "\n",
       "    .dataframe tbody tr th {\n",
       "        vertical-align: top;\n",
       "    }\n",
       "\n",
       "    .dataframe thead th {\n",
       "        text-align: right;\n",
       "    }\n",
       "</style>\n",
       "<table border=\"1\" class=\"dataframe\">\n",
       "  <thead>\n",
       "    <tr style=\"text-align: right;\">\n",
       "      <th></th>\n",
       "      <th>client_id</th>\n",
       "      <th>birth_number</th>\n",
       "      <th>district_id</th>\n",
       "    </tr>\n",
       "  </thead>\n",
       "  <tbody>\n",
       "    <tr>\n",
       "      <th>0</th>\n",
       "      <td>1</td>\n",
       "      <td>706213</td>\n",
       "      <td>18</td>\n",
       "    </tr>\n",
       "    <tr>\n",
       "      <th>1</th>\n",
       "      <td>2</td>\n",
       "      <td>450204</td>\n",
       "      <td>1</td>\n",
       "    </tr>\n",
       "    <tr>\n",
       "      <th>2</th>\n",
       "      <td>3</td>\n",
       "      <td>406009</td>\n",
       "      <td>1</td>\n",
       "    </tr>\n",
       "    <tr>\n",
       "      <th>3</th>\n",
       "      <td>4</td>\n",
       "      <td>561201</td>\n",
       "      <td>5</td>\n",
       "    </tr>\n",
       "    <tr>\n",
       "      <th>4</th>\n",
       "      <td>5</td>\n",
       "      <td>605703</td>\n",
       "      <td>5</td>\n",
       "    </tr>\n",
       "  </tbody>\n",
       "</table>\n",
       "</div>"
      ],
      "text/plain": [
       "   client_id  birth_number  district_id\n",
       "0          1        706213           18\n",
       "1          2        450204            1\n",
       "2          3        406009            1\n",
       "3          4        561201            5\n",
       "4          5        605703            5"
      ]
     },
     "execution_count": 869,
     "metadata": {},
     "output_type": "execute_result"
    }
   ],
   "source": [
    "df_client.head()"
   ]
  },
  {
   "cell_type": "code",
   "execution_count": 870,
   "id": "884f4e0c",
   "metadata": {},
   "outputs": [
    {
     "data": {
      "text/html": [
       "<div>\n",
       "<style scoped>\n",
       "    .dataframe tbody tr th:only-of-type {\n",
       "        vertical-align: middle;\n",
       "    }\n",
       "\n",
       "    .dataframe tbody tr th {\n",
       "        vertical-align: top;\n",
       "    }\n",
       "\n",
       "    .dataframe thead th {\n",
       "        text-align: right;\n",
       "    }\n",
       "</style>\n",
       "<table border=\"1\" class=\"dataframe\">\n",
       "  <thead>\n",
       "    <tr style=\"text-align: right;\">\n",
       "      <th></th>\n",
       "      <th>disp_id</th>\n",
       "      <th>client_id</th>\n",
       "      <th>account_id</th>\n",
       "      <th>type</th>\n",
       "    </tr>\n",
       "  </thead>\n",
       "  <tbody>\n",
       "    <tr>\n",
       "      <th>0</th>\n",
       "      <td>1</td>\n",
       "      <td>1</td>\n",
       "      <td>1</td>\n",
       "      <td>OWNER</td>\n",
       "    </tr>\n",
       "    <tr>\n",
       "      <th>1</th>\n",
       "      <td>2</td>\n",
       "      <td>2</td>\n",
       "      <td>2</td>\n",
       "      <td>OWNER</td>\n",
       "    </tr>\n",
       "    <tr>\n",
       "      <th>2</th>\n",
       "      <td>3</td>\n",
       "      <td>3</td>\n",
       "      <td>2</td>\n",
       "      <td>DISPONENT</td>\n",
       "    </tr>\n",
       "    <tr>\n",
       "      <th>3</th>\n",
       "      <td>4</td>\n",
       "      <td>4</td>\n",
       "      <td>3</td>\n",
       "      <td>OWNER</td>\n",
       "    </tr>\n",
       "    <tr>\n",
       "      <th>4</th>\n",
       "      <td>5</td>\n",
       "      <td>5</td>\n",
       "      <td>3</td>\n",
       "      <td>DISPONENT</td>\n",
       "    </tr>\n",
       "  </tbody>\n",
       "</table>\n",
       "</div>"
      ],
      "text/plain": [
       "   disp_id  client_id  account_id       type\n",
       "0        1          1           1      OWNER\n",
       "1        2          2           2      OWNER\n",
       "2        3          3           2  DISPONENT\n",
       "3        4          4           3      OWNER\n",
       "4        5          5           3  DISPONENT"
      ]
     },
     "execution_count": 870,
     "metadata": {},
     "output_type": "execute_result"
    }
   ],
   "source": [
    "df_disp.head()"
   ]
  },
  {
   "cell_type": "code",
   "execution_count": 871,
   "id": "a24b2911",
   "metadata": {},
   "outputs": [
    {
     "data": {
      "text/html": [
       "<div>\n",
       "<style scoped>\n",
       "    .dataframe tbody tr th:only-of-type {\n",
       "        vertical-align: middle;\n",
       "    }\n",
       "\n",
       "    .dataframe tbody tr th {\n",
       "        vertical-align: top;\n",
       "    }\n",
       "\n",
       "    .dataframe thead th {\n",
       "        text-align: right;\n",
       "    }\n",
       "</style>\n",
       "<table border=\"1\" class=\"dataframe\">\n",
       "  <thead>\n",
       "    <tr style=\"text-align: right;\">\n",
       "      <th></th>\n",
       "      <th>A1</th>\n",
       "      <th>A2</th>\n",
       "      <th>A3</th>\n",
       "      <th>A4</th>\n",
       "      <th>A5</th>\n",
       "      <th>A6</th>\n",
       "      <th>A7</th>\n",
       "      <th>A8</th>\n",
       "      <th>A9</th>\n",
       "      <th>A10</th>\n",
       "      <th>A11</th>\n",
       "      <th>A12</th>\n",
       "      <th>A13</th>\n",
       "      <th>A14</th>\n",
       "      <th>A15</th>\n",
       "      <th>A16</th>\n",
       "    </tr>\n",
       "  </thead>\n",
       "  <tbody>\n",
       "    <tr>\n",
       "      <th>0</th>\n",
       "      <td>1</td>\n",
       "      <td>Hl.m. Praha</td>\n",
       "      <td>Prague</td>\n",
       "      <td>1204953</td>\n",
       "      <td>0</td>\n",
       "      <td>0</td>\n",
       "      <td>0</td>\n",
       "      <td>1</td>\n",
       "      <td>1</td>\n",
       "      <td>100.0</td>\n",
       "      <td>12541</td>\n",
       "      <td>0.29</td>\n",
       "      <td>0.43</td>\n",
       "      <td>167</td>\n",
       "      <td>85677</td>\n",
       "      <td>99107</td>\n",
       "    </tr>\n",
       "    <tr>\n",
       "      <th>1</th>\n",
       "      <td>2</td>\n",
       "      <td>Benesov</td>\n",
       "      <td>central Bohemia</td>\n",
       "      <td>88884</td>\n",
       "      <td>80</td>\n",
       "      <td>26</td>\n",
       "      <td>6</td>\n",
       "      <td>2</td>\n",
       "      <td>5</td>\n",
       "      <td>46.7</td>\n",
       "      <td>8507</td>\n",
       "      <td>1.67</td>\n",
       "      <td>1.85</td>\n",
       "      <td>132</td>\n",
       "      <td>2159</td>\n",
       "      <td>2674</td>\n",
       "    </tr>\n",
       "    <tr>\n",
       "      <th>2</th>\n",
       "      <td>3</td>\n",
       "      <td>Beroun</td>\n",
       "      <td>central Bohemia</td>\n",
       "      <td>75232</td>\n",
       "      <td>55</td>\n",
       "      <td>26</td>\n",
       "      <td>4</td>\n",
       "      <td>1</td>\n",
       "      <td>5</td>\n",
       "      <td>41.7</td>\n",
       "      <td>8980</td>\n",
       "      <td>1.95</td>\n",
       "      <td>2.21</td>\n",
       "      <td>111</td>\n",
       "      <td>2824</td>\n",
       "      <td>2813</td>\n",
       "    </tr>\n",
       "    <tr>\n",
       "      <th>3</th>\n",
       "      <td>4</td>\n",
       "      <td>Kladno</td>\n",
       "      <td>central Bohemia</td>\n",
       "      <td>149893</td>\n",
       "      <td>63</td>\n",
       "      <td>29</td>\n",
       "      <td>6</td>\n",
       "      <td>2</td>\n",
       "      <td>6</td>\n",
       "      <td>67.4</td>\n",
       "      <td>9753</td>\n",
       "      <td>4.64</td>\n",
       "      <td>5.05</td>\n",
       "      <td>109</td>\n",
       "      <td>5244</td>\n",
       "      <td>5892</td>\n",
       "    </tr>\n",
       "    <tr>\n",
       "      <th>4</th>\n",
       "      <td>5</td>\n",
       "      <td>Kolin</td>\n",
       "      <td>central Bohemia</td>\n",
       "      <td>95616</td>\n",
       "      <td>65</td>\n",
       "      <td>30</td>\n",
       "      <td>4</td>\n",
       "      <td>1</td>\n",
       "      <td>6</td>\n",
       "      <td>51.4</td>\n",
       "      <td>9307</td>\n",
       "      <td>3.85</td>\n",
       "      <td>4.43</td>\n",
       "      <td>118</td>\n",
       "      <td>2616</td>\n",
       "      <td>3040</td>\n",
       "    </tr>\n",
       "  </tbody>\n",
       "</table>\n",
       "</div>"
      ],
      "text/plain": [
       "   A1           A2               A3       A4  A5  A6  A7  A8  A9    A10  \\\n",
       "0   1  Hl.m. Praha           Prague  1204953   0   0   0   1   1  100.0   \n",
       "1   2      Benesov  central Bohemia    88884  80  26   6   2   5   46.7   \n",
       "2   3       Beroun  central Bohemia    75232  55  26   4   1   5   41.7   \n",
       "3   4       Kladno  central Bohemia   149893  63  29   6   2   6   67.4   \n",
       "4   5        Kolin  central Bohemia    95616  65  30   4   1   6   51.4   \n",
       "\n",
       "     A11   A12   A13  A14    A15    A16  \n",
       "0  12541  0.29  0.43  167  85677  99107  \n",
       "1   8507  1.67  1.85  132   2159   2674  \n",
       "2   8980  1.95  2.21  111   2824   2813  \n",
       "3   9753  4.64  5.05  109   5244   5892  \n",
       "4   9307  3.85  4.43  118   2616   3040  "
      ]
     },
     "execution_count": 871,
     "metadata": {},
     "output_type": "execute_result"
    }
   ],
   "source": [
    "df_district.head()"
   ]
  },
  {
   "cell_type": "code",
   "execution_count": 872,
   "id": "ec6c4156",
   "metadata": {},
   "outputs": [
    {
     "data": {
      "text/html": [
       "<div>\n",
       "<style scoped>\n",
       "    .dataframe tbody tr th:only-of-type {\n",
       "        vertical-align: middle;\n",
       "    }\n",
       "\n",
       "    .dataframe tbody tr th {\n",
       "        vertical-align: top;\n",
       "    }\n",
       "\n",
       "    .dataframe thead th {\n",
       "        text-align: right;\n",
       "    }\n",
       "</style>\n",
       "<table border=\"1\" class=\"dataframe\">\n",
       "  <thead>\n",
       "    <tr style=\"text-align: right;\">\n",
       "      <th></th>\n",
       "      <th>order_id</th>\n",
       "      <th>account_id</th>\n",
       "      <th>bank_to</th>\n",
       "      <th>account_to</th>\n",
       "      <th>amount</th>\n",
       "      <th>k_symbol</th>\n",
       "    </tr>\n",
       "  </thead>\n",
       "  <tbody>\n",
       "    <tr>\n",
       "      <th>0</th>\n",
       "      <td>29401</td>\n",
       "      <td>1</td>\n",
       "      <td>YZ</td>\n",
       "      <td>87144583</td>\n",
       "      <td>2452.0</td>\n",
       "      <td>SIPO</td>\n",
       "    </tr>\n",
       "    <tr>\n",
       "      <th>1</th>\n",
       "      <td>29402</td>\n",
       "      <td>2</td>\n",
       "      <td>ST</td>\n",
       "      <td>89597016</td>\n",
       "      <td>3372.7</td>\n",
       "      <td>UVER</td>\n",
       "    </tr>\n",
       "    <tr>\n",
       "      <th>2</th>\n",
       "      <td>29403</td>\n",
       "      <td>2</td>\n",
       "      <td>QR</td>\n",
       "      <td>13943797</td>\n",
       "      <td>7266.0</td>\n",
       "      <td>SIPO</td>\n",
       "    </tr>\n",
       "    <tr>\n",
       "      <th>3</th>\n",
       "      <td>29404</td>\n",
       "      <td>3</td>\n",
       "      <td>WX</td>\n",
       "      <td>83084338</td>\n",
       "      <td>1135.0</td>\n",
       "      <td>SIPO</td>\n",
       "    </tr>\n",
       "    <tr>\n",
       "      <th>4</th>\n",
       "      <td>29405</td>\n",
       "      <td>3</td>\n",
       "      <td>CD</td>\n",
       "      <td>24485939</td>\n",
       "      <td>327.0</td>\n",
       "      <td>NaN</td>\n",
       "    </tr>\n",
       "  </tbody>\n",
       "</table>\n",
       "</div>"
      ],
      "text/plain": [
       "   order_id  account_id bank_to  account_to  amount k_symbol\n",
       "0     29401           1      YZ    87144583  2452.0     SIPO\n",
       "1     29402           2      ST    89597016  3372.7     UVER\n",
       "2     29403           2      QR    13943797  7266.0     SIPO\n",
       "3     29404           3      WX    83084338  1135.0     SIPO\n",
       "4     29405           3      CD    24485939   327.0      NaN"
      ]
     },
     "execution_count": 872,
     "metadata": {},
     "output_type": "execute_result"
    }
   ],
   "source": [
    "df_order.head()"
   ]
  },
  {
   "cell_type": "code",
   "execution_count": 873,
   "id": "13570a71",
   "metadata": {},
   "outputs": [
    {
     "data": {
      "text/html": [
       "<div>\n",
       "<style scoped>\n",
       "    .dataframe tbody tr th:only-of-type {\n",
       "        vertical-align: middle;\n",
       "    }\n",
       "\n",
       "    .dataframe tbody tr th {\n",
       "        vertical-align: top;\n",
       "    }\n",
       "\n",
       "    .dataframe thead th {\n",
       "        text-align: right;\n",
       "    }\n",
       "</style>\n",
       "<table border=\"1\" class=\"dataframe\">\n",
       "  <thead>\n",
       "    <tr style=\"text-align: right;\">\n",
       "      <th></th>\n",
       "      <th>trans_id</th>\n",
       "      <th>account_id</th>\n",
       "      <th>date</th>\n",
       "      <th>type</th>\n",
       "      <th>operation</th>\n",
       "      <th>amount</th>\n",
       "      <th>balance</th>\n",
       "      <th>k_symbol</th>\n",
       "      <th>bank</th>\n",
       "      <th>account</th>\n",
       "    </tr>\n",
       "  </thead>\n",
       "  <tbody>\n",
       "    <tr>\n",
       "      <th>0</th>\n",
       "      <td>695247</td>\n",
       "      <td>2378</td>\n",
       "      <td>930101</td>\n",
       "      <td>PRIJEM</td>\n",
       "      <td>VKLAD</td>\n",
       "      <td>700.0</td>\n",
       "      <td>700.0</td>\n",
       "      <td>NaN</td>\n",
       "      <td>NaN</td>\n",
       "      <td>NaN</td>\n",
       "    </tr>\n",
       "    <tr>\n",
       "      <th>1</th>\n",
       "      <td>171812</td>\n",
       "      <td>576</td>\n",
       "      <td>930101</td>\n",
       "      <td>PRIJEM</td>\n",
       "      <td>VKLAD</td>\n",
       "      <td>900.0</td>\n",
       "      <td>900.0</td>\n",
       "      <td>NaN</td>\n",
       "      <td>NaN</td>\n",
       "      <td>NaN</td>\n",
       "    </tr>\n",
       "    <tr>\n",
       "      <th>2</th>\n",
       "      <td>207264</td>\n",
       "      <td>704</td>\n",
       "      <td>930101</td>\n",
       "      <td>PRIJEM</td>\n",
       "      <td>VKLAD</td>\n",
       "      <td>1000.0</td>\n",
       "      <td>1000.0</td>\n",
       "      <td>NaN</td>\n",
       "      <td>NaN</td>\n",
       "      <td>NaN</td>\n",
       "    </tr>\n",
       "    <tr>\n",
       "      <th>3</th>\n",
       "      <td>1117247</td>\n",
       "      <td>3818</td>\n",
       "      <td>930101</td>\n",
       "      <td>PRIJEM</td>\n",
       "      <td>VKLAD</td>\n",
       "      <td>600.0</td>\n",
       "      <td>600.0</td>\n",
       "      <td>NaN</td>\n",
       "      <td>NaN</td>\n",
       "      <td>NaN</td>\n",
       "    </tr>\n",
       "    <tr>\n",
       "      <th>4</th>\n",
       "      <td>579373</td>\n",
       "      <td>1972</td>\n",
       "      <td>930102</td>\n",
       "      <td>PRIJEM</td>\n",
       "      <td>VKLAD</td>\n",
       "      <td>400.0</td>\n",
       "      <td>400.0</td>\n",
       "      <td>NaN</td>\n",
       "      <td>NaN</td>\n",
       "      <td>NaN</td>\n",
       "    </tr>\n",
       "  </tbody>\n",
       "</table>\n",
       "</div>"
      ],
      "text/plain": [
       "   trans_id  account_id    date    type operation  amount  balance k_symbol  \\\n",
       "0    695247        2378  930101  PRIJEM     VKLAD   700.0    700.0      NaN   \n",
       "1    171812         576  930101  PRIJEM     VKLAD   900.0    900.0      NaN   \n",
       "2    207264         704  930101  PRIJEM     VKLAD  1000.0   1000.0      NaN   \n",
       "3   1117247        3818  930101  PRIJEM     VKLAD   600.0    600.0      NaN   \n",
       "4    579373        1972  930102  PRIJEM     VKLAD   400.0    400.0      NaN   \n",
       "\n",
       "  bank  account  \n",
       "0  NaN      NaN  \n",
       "1  NaN      NaN  \n",
       "2  NaN      NaN  \n",
       "3  NaN      NaN  \n",
       "4  NaN      NaN  "
      ]
     },
     "execution_count": 873,
     "metadata": {},
     "output_type": "execute_result"
    }
   ],
   "source": [
    "df_trans.head()"
   ]
  },
  {
   "cell_type": "markdown",
   "id": "01158d1e",
   "metadata": {},
   "source": [
    "# 2. Data Cleaning\n",
    "##### Define how each dataset should look like before the merging."
   ]
  },
  {
   "cell_type": "code",
   "execution_count": 874,
   "id": "7342ae0c",
   "metadata": {},
   "outputs": [],
   "source": [
    "# Drop df_account unnecessary data\n",
    "df_account.drop(columns=['frequency', 'date'], inplace=True)\n",
    "\n",
    "# Drop df_client unnecessary data\n",
    "df_client.drop(columns=['district_id'], inplace=True)\n",
    "\n",
    "# Drop df_disp unnecessary data\n",
    "df_disp.drop(columns=['type'], inplace=True)\n",
    "\n",
    "# Drop all demographic data except district name and region\n",
    "df_district.drop(columns=['A4', 'A5', 'A6', 'A7', 'A8', 'A9', 'A10', 'A12', 'A13', 'A14', 'A15', 'A16'], inplace=True)\n",
    "\n",
    "# Drop df_order unnecessary data\n",
    "df_order.drop(columns=['bank_to'], inplace=True)\n",
    "\n",
    "# Drop df_trans unnecessary data\n",
    "df_trans.drop(columns=['balance', 'bank'], inplace=True)"
   ]
  },
  {
   "cell_type": "code",
   "execution_count": 875,
   "id": "db156251",
   "metadata": {},
   "outputs": [],
   "source": [
    "# Rename the necessary columns\n",
    "df_order.rename(columns={'account_to': 'order_receiver'}, inplace=True)\n",
    "df_order.rename(columns={'amount': 'order_amount'}, inplace=True)\n",
    "df_order.rename(columns={'k_symbol': 'order_char'}, inplace=True)\n",
    "df_trans.rename(columns={'date': 'trans_date'}, inplace=True)\n",
    "df_trans.rename(columns={'type': 'trans_type'}, inplace=True)\n",
    "df_trans.rename(columns={'operation': 'trans_mode'}, inplace=True)\n",
    "df_trans.rename(columns={'amount': 'trans_amount'}, inplace=True)\n",
    "df_trans.rename(columns={'k_symbol': 'trans_char'}, inplace=True)\n",
    "df_trans.rename(columns={'account': 'trans_receiver'}, inplace=True)\n",
    "df_district.rename(columns={'A1': 'district_id'}, inplace=True)\n",
    "df_district.rename(columns={'A2': 'district_name'}, inplace=True)\n",
    "df_district.rename(columns={'A3': 'district_region'}, inplace=True)\n",
    "df_district.rename(columns={'A11': 'average_salary'}, inplace=True)"
   ]
  },
  {
   "cell_type": "markdown",
   "id": "f660aad3",
   "metadata": {},
   "source": [
    "##### 2.1. Generate the gender and age from the birth_number column and convert the trans_date column to the date format"
   ]
  },
  {
   "cell_type": "code",
   "execution_count": 876,
   "id": "e908da04",
   "metadata": {
    "scrolled": true
   },
   "outputs": [],
   "source": [
    "# Define a function to convert the date_of_birth and trans_date values to the formatted dates\n",
    "def convert_to_date (df, col):\n",
    "    df [col] = pd.to_datetime (df [col], format = '%y%m%d', errors = 'coerce') # Convertion, formatting and error handling\n",
    "    return df\n",
    "\n",
    "# Define a function to calculate the age from the birth year\n",
    "def calculate_age (birth_year):\n",
    "    age = birth_year.year\n",
    "    return 1998 - age # The dataset is from 1998\n",
    "\n",
    "# Define a function to check if a year is being read as 1900 or 2000\n",
    "def fix_date (date):\n",
    "    if date.year > 2000:\n",
    "        date = date.replace (year = date.year - 100)\n",
    "        return date\n",
    "    else:\n",
    "        return date"
   ]
  },
  {
   "cell_type": "code",
   "execution_count": 877,
   "id": "623ca9d4",
   "metadata": {},
   "outputs": [],
   "source": [
    "# Add the columns date_of_birth, gender and age to the df_client dataset\n",
    "df_client = df_client.join(pd.DataFrame({'date_of_birth': np.nan, 'gender': np.nan, 'age': np.nan}, index = df_client.index))"
   ]
  },
  {
   "cell_type": "code",
   "execution_count": 878,
   "id": "97825475",
   "metadata": {
    "scrolled": true
   },
   "outputs": [],
   "source": [
    "# Fill the new gender column based on the 'birth_number'\n",
    "df_client ['date_of_birth'] = df_client ['birth_number']\n",
    "for idx, item in enumerate (df_client ['birth_number']):\n",
    "    # The value is in the format YYMM+50DD for women\n",
    "    if int (str (item) [2:4]) > 50: # Extract the month and check if it's greater than 50\n",
    "        df_client.loc [idx, 'gender'] = \"female\"\n",
    "        df_client.loc [idx, 'date_of_birth'] = item - 5000 # Subtract 5000 to get the actual date of birth in the right format\n",
    "    else: \n",
    "        df_client.loc [idx, 'gender'] = \"male\""
   ]
  },
  {
   "cell_type": "code",
   "execution_count": 879,
   "id": "1ea8f64a",
   "metadata": {},
   "outputs": [],
   "source": [
    "# Call the function to convert the date_of_birth and trans_date values to the formatted dates\n",
    "df_client = convert_to_date(df_client, 'date_of_birth') \n",
    "df_trans = convert_to_date(df_trans, 'trans_date')"
   ]
  },
  {
   "cell_type": "code",
   "execution_count": 880,
   "id": "3bd4f1ef",
   "metadata": {},
   "outputs": [],
   "source": [
    "# Call the function to check if a year is being read as 1900 or 2000\n",
    "df_client ['date_of_birth'] = df_client ['date_of_birth'].apply(fix_date)"
   ]
  },
  {
   "cell_type": "code",
   "execution_count": 881,
   "id": "f6947f3b",
   "metadata": {
    "scrolled": false
   },
   "outputs": [
    {
     "data": {
      "text/html": [
       "<div>\n",
       "<style scoped>\n",
       "    .dataframe tbody tr th:only-of-type {\n",
       "        vertical-align: middle;\n",
       "    }\n",
       "\n",
       "    .dataframe tbody tr th {\n",
       "        vertical-align: top;\n",
       "    }\n",
       "\n",
       "    .dataframe thead th {\n",
       "        text-align: right;\n",
       "    }\n",
       "</style>\n",
       "<table border=\"1\" class=\"dataframe\">\n",
       "  <thead>\n",
       "    <tr style=\"text-align: right;\">\n",
       "      <th></th>\n",
       "      <th>client_id</th>\n",
       "      <th>birth_number</th>\n",
       "      <th>date_of_birth</th>\n",
       "      <th>gender</th>\n",
       "      <th>age</th>\n",
       "    </tr>\n",
       "  </thead>\n",
       "  <tbody>\n",
       "    <tr>\n",
       "      <th>0</th>\n",
       "      <td>1</td>\n",
       "      <td>706213</td>\n",
       "      <td>1970-12-13</td>\n",
       "      <td>female</td>\n",
       "      <td>28</td>\n",
       "    </tr>\n",
       "    <tr>\n",
       "      <th>1</th>\n",
       "      <td>2</td>\n",
       "      <td>450204</td>\n",
       "      <td>1945-02-04</td>\n",
       "      <td>male</td>\n",
       "      <td>53</td>\n",
       "    </tr>\n",
       "    <tr>\n",
       "      <th>2</th>\n",
       "      <td>3</td>\n",
       "      <td>406009</td>\n",
       "      <td>1940-10-09</td>\n",
       "      <td>female</td>\n",
       "      <td>58</td>\n",
       "    </tr>\n",
       "    <tr>\n",
       "      <th>3</th>\n",
       "      <td>4</td>\n",
       "      <td>561201</td>\n",
       "      <td>1956-12-01</td>\n",
       "      <td>male</td>\n",
       "      <td>42</td>\n",
       "    </tr>\n",
       "    <tr>\n",
       "      <th>4</th>\n",
       "      <td>5</td>\n",
       "      <td>605703</td>\n",
       "      <td>1960-07-03</td>\n",
       "      <td>female</td>\n",
       "      <td>38</td>\n",
       "    </tr>\n",
       "  </tbody>\n",
       "</table>\n",
       "</div>"
      ],
      "text/plain": [
       "   client_id  birth_number date_of_birth  gender  age\n",
       "0          1        706213    1970-12-13  female   28\n",
       "1          2        450204    1945-02-04    male   53\n",
       "2          3        406009    1940-10-09  female   58\n",
       "3          4        561201    1956-12-01    male   42\n",
       "4          5        605703    1960-07-03  female   38"
      ]
     },
     "execution_count": 881,
     "metadata": {},
     "output_type": "execute_result"
    }
   ],
   "source": [
    "# Call the function to calculate the age\n",
    "df_client['age'] = df_client['date_of_birth'].apply (calculate_age)\n",
    "\n",
    "df_client.head()"
   ]
  },
  {
   "cell_type": "markdown",
   "id": "30247511",
   "metadata": {},
   "source": [
    "##### 2.2. Translate the types, modes and characterization (k_symbols) records from Czech to English"
   ]
  },
  {
   "cell_type": "code",
   "execution_count": 882,
   "id": "b64c1995",
   "metadata": {},
   "outputs": [],
   "source": [
    "# Change df_trans > trans_char (k_symbol) values to its description\n",
    "trans_char_mapping = {'POJISTNE': 'insurance payment',\n",
    "                      'SLUZBY': 'payment of statement',\n",
    "                      'UROK': 'interest credited',\n",
    "                      'SANKC. UROK': 'sanction interest if negative balance',\n",
    "                      'SIPO': 'household payment',\n",
    "                      'DUCHOD': 'old-age pension payment',\n",
    "                      'UVER': 'loan payment'} # Define the mapping\n",
    "\n",
    "# Replace values in the 'k_symbol' column using the mapping\n",
    "df_trans['trans_char'] = df_trans['trans_char'].replace(trans_char_mapping) # Replace the values"
   ]
  },
  {
   "cell_type": "code",
   "execution_count": 883,
   "id": "d4b24197",
   "metadata": {},
   "outputs": [],
   "source": [
    "# Change df_trans > type values to credit, debit or withdrawal in cash\n",
    "trans_type_mapping = {'PRIJEM': 'credit', \n",
    "                      'VYDAJ': 'debit', \n",
    "                      'VYBER': 'withdrawal in cash'} # Define the mapping\n",
    "\n",
    "# 'VYBER': 'withdrawal in cash' comes from the trans_mode column\n",
    "\n",
    "# Replace values in the 'type' column using the mapping\n",
    "df_trans['trans_type'] = df_trans['trans_type'].replace(trans_type_mapping) # Replace the values"
   ]
  },
  {
   "cell_type": "code",
   "execution_count": 884,
   "id": "db349adb",
   "metadata": {},
   "outputs": [],
   "source": [
    "# Change df_trans > type values to its description\n",
    "trans_mode_mapping = {'VYBER KARTOU': 'credit card withdrawal', \n",
    "                      'VKLAD': 'credit in cash', \n",
    "                      'PREVOD Z UCTU': 'collection from another bank',\n",
    "                      'VYBER': 'withdrawal in cash', \n",
    "                      'PREVOD NA UCET': 'remittance to another bank'} # Define the mapping\n",
    "\n",
    "# Replace values in the 'type' column using the mapping\n",
    "df_trans['trans_mode'] = df_trans['trans_mode'].replace(trans_mode_mapping) # Replace the values"
   ]
  },
  {
   "cell_type": "code",
   "execution_count": 885,
   "id": "458831f3",
   "metadata": {},
   "outputs": [],
   "source": [
    "# Change df_order > order_char (k_symbol) values to its description\n",
    "order_char_mapping = {\"POJISTNE\": 'insurance payment',\n",
    "                      \"SIPO\": 'household payment',\n",
    "                      \"LEASING\": 'leasing payment',\n",
    "                      \"UVER\": 'loan payment'} # Define the mapping\n",
    "\n",
    "# Replace values in the 'k_symbol' column using the mapping\n",
    "df_order['order_char'] = df_order['order_char'].replace(order_char_mapping) # Replace the values"
   ]
  },
  {
   "cell_type": "markdown",
   "id": "b046de5a",
   "metadata": {},
   "source": [
    "##### 2.3. Convert the currency records from Czech Koruna to Euro"
   ]
  },
  {
   "cell_type": "code",
   "execution_count": 886,
   "id": "b0ea1eda",
   "metadata": {},
   "outputs": [],
   "source": [
    "# Change df_order/df_trans > order_amount/trans_amount values from Czech Koruna to Euro\n",
    "\n",
    "czk_to_eur = 0.040 # Define the actual exchange rate\n",
    "\n",
    "# Define a function to convert from Czech Koruna to Euro\n",
    "def convert_czk_to_eur(amount_czk):\n",
    "    return amount_czk * czk_to_eur\n",
    "\n",
    "# Apply the conversion function to the 'trans_amount' column\n",
    "df_order['order_amount'] = df_order['order_amount'].apply(convert_czk_to_eur)\n",
    "df_trans['trans_amount'] = df_trans['trans_amount'].apply(convert_czk_to_eur)\n",
    "df_district['average_salary'] = df_district['average_salary'].apply(convert_czk_to_eur)"
   ]
  },
  {
   "cell_type": "markdown",
   "id": "6d47cc36",
   "metadata": {},
   "source": [
    "##### 2.4. Observe, correct and replace the missing values"
   ]
  },
  {
   "cell_type": "code",
   "execution_count": 887,
   "id": "ffcb4628",
   "metadata": {
    "scrolled": false
   },
   "outputs": [
    {
     "data": {
      "text/plain": [
       "trans_id               0\n",
       "account_id             0\n",
       "trans_date             0\n",
       "trans_type             0\n",
       "trans_mode        183114\n",
       "trans_amount           0\n",
       "trans_char        535314\n",
       "trans_receiver    760931\n",
       "dtype: int64"
      ]
     },
     "execution_count": 887,
     "metadata": {},
     "output_type": "execute_result"
    }
   ],
   "source": [
    "# Check the count of null values in the df_trans dataset\n",
    "df_trans.isnull().sum()"
   ]
  },
  {
   "cell_type": "code",
   "execution_count": 888,
   "id": "a1ac3c2a",
   "metadata": {},
   "outputs": [
    {
     "data": {
      "text/plain": [
       "order_id             0\n",
       "account_id           0\n",
       "order_receiver       0\n",
       "order_amount         0\n",
       "order_char        1379\n",
       "dtype: int64"
      ]
     },
     "execution_count": 888,
     "metadata": {},
     "output_type": "execute_result"
    }
   ],
   "source": [
    "# Check the count of null values in the df_order dataset\n",
    "df_order.isnull().sum()"
   ]
  },
  {
   "cell_type": "code",
   "execution_count": 889,
   "id": "5baedd0c",
   "metadata": {},
   "outputs": [],
   "source": [
    "# Define a function to fill the null values with the median\n",
    "def fill_with_median(df, col):\n",
    "    for column in col:\n",
    "        df[col] = df[col].fillna(df[col].median())\n",
    "    return df\n",
    "\n",
    "df_trans = fill_with_median(df_trans, 'trans_receiver')"
   ]
  },
  {
   "cell_type": "code",
   "execution_count": 890,
   "id": "73ebf781",
   "metadata": {},
   "outputs": [],
   "source": [
    "# Define a function to fill the null values with the mode\n",
    "def fill_with_mode(df, col):\n",
    "    for column in col:\n",
    "        df[column] = df[column].fillna(df[column].mode()[0])\n",
    "    return df\n",
    "\n",
    "df_trans = fill_with_mode(df_trans, ['trans_char'])\n",
    "df_order = fill_with_mode(df_order, ['order_char'])"
   ]
  },
  {
   "cell_type": "code",
   "execution_count": 891,
   "id": "0694b74c",
   "metadata": {},
   "outputs": [],
   "source": [
    "df_trans['trans_mode'] = df_trans['trans_mode'].fillna('interest credited') # Replace the missing values with \"interest credited\""
   ]
  },
  {
   "cell_type": "code",
   "execution_count": 892,
   "id": "4ec5e65b",
   "metadata": {
    "scrolled": true
   },
   "outputs": [
    {
     "data": {
      "text/plain": [
       "trans_id          0\n",
       "account_id        0\n",
       "trans_date        0\n",
       "trans_type        0\n",
       "trans_mode        0\n",
       "trans_amount      0\n",
       "trans_char        0\n",
       "trans_receiver    0\n",
       "dtype: int64"
      ]
     },
     "execution_count": 892,
     "metadata": {},
     "output_type": "execute_result"
    }
   ],
   "source": [
    "# Check the count of null values in the df_trans dataset\n",
    "df_trans.isnull().sum()"
   ]
  },
  {
   "cell_type": "code",
   "execution_count": 893,
   "id": "e3dca184",
   "metadata": {},
   "outputs": [
    {
     "data": {
      "text/plain": [
       "order_id          0\n",
       "account_id        0\n",
       "order_receiver    0\n",
       "order_amount      0\n",
       "order_char        0\n",
       "dtype: int64"
      ]
     },
     "execution_count": 893,
     "metadata": {},
     "output_type": "execute_result"
    }
   ],
   "source": [
    "# Check the count of null values in the df_order dataset\n",
    "df_order.isnull().sum()"
   ]
  },
  {
   "cell_type": "markdown",
   "id": "1cb20720",
   "metadata": {},
   "source": [
    "# 3. Data Merging\n",
    "##### Combine all the datasets together, drop the unecessary columns and define the index and order"
   ]
  },
  {
   "cell_type": "code",
   "execution_count": 894,
   "id": "5b2c1807",
   "metadata": {
    "scrolled": false
   },
   "outputs": [],
   "source": [
    "# Merge df_account and df_order by account_id\n",
    "df_merged = pd.merge(df_account, df_order, on='account_id', how='inner')\n",
    "\n",
    "# Merge df_merged and df_trans by account_id\n",
    "df_merged = pd.merge(df_merged, df_trans, on='account_id', how='left')\n",
    "\n",
    "# Merge df_merged and df_disp by account_id\n",
    "df_merged = pd.merge(df_merged, df_disp, on='account_id', how='left')\n",
    "\n",
    "# Merge df_merged and df_client by client_id\n",
    "df_merged = pd.merge(df_merged, df_client, on='client_id', how='left')\n",
    "\n",
    "# Merge df_merged and df_district by district_id\n",
    "df_merged = pd.merge(df_merged, df_district, on='district_id', how='left')"
   ]
  },
  {
   "cell_type": "code",
   "execution_count": 895,
   "id": "54a6cef4",
   "metadata": {},
   "outputs": [
    {
     "data": {
      "text/plain": [
       "Index(['account_id', 'district_id', 'order_id', 'order_receiver',\n",
       "       'order_amount', 'order_char', 'trans_id', 'trans_date', 'trans_type',\n",
       "       'trans_mode', 'trans_amount', 'trans_char', 'trans_receiver', 'disp_id',\n",
       "       'client_id', 'birth_number', 'date_of_birth', 'gender', 'age',\n",
       "       'district_name', 'district_region', 'average_salary'],\n",
       "      dtype='object')"
      ]
     },
     "execution_count": 895,
     "metadata": {},
     "output_type": "execute_result"
    }
   ],
   "source": [
    "# Print the columns\n",
    "df_merged.columns"
   ]
  },
  {
   "cell_type": "code",
   "execution_count": 896,
   "id": "01a5c64c",
   "metadata": {},
   "outputs": [],
   "source": [
    "# Drop more unnecessary data\n",
    "df_merged.drop(columns=['district_id'], inplace=True)\n",
    "df_merged.drop(columns=['order_id'], inplace=True)\n",
    "df_merged.drop(columns=['trans_id'], inplace=True)\n",
    "df_merged.drop(columns=['disp_id'], inplace=True)\n",
    "df_merged.drop(columns=['client_id'], inplace=True)\n",
    "df_merged.drop(columns=['birth_number'], inplace=True)\n",
    "df_merged.drop(columns=['date_of_birth'], inplace=True)"
   ]
  },
  {
   "cell_type": "code",
   "execution_count": 897,
   "id": "53c458ac",
   "metadata": {},
   "outputs": [],
   "source": [
    "# Define the order of the columns\n",
    "df_ordered = ['account_id', \n",
    "              'gender',\n",
    "              'age',\n",
    "              'order_amount', \n",
    "              'order_receiver', \n",
    "              'order_char',\n",
    "              'trans_date',\n",
    "              'trans_type', \n",
    "              'trans_mode', \n",
    "              'trans_amount',\n",
    "              'trans_char',\n",
    "              'trans_receiver',\n",
    "              'district_region', \n",
    "              'district_name', \n",
    "              'average_salary']\n",
    "\n",
    "# Reorder the columns\n",
    "df_merged = df_merged[df_ordered]"
   ]
  },
  {
   "cell_type": "code",
   "execution_count": 898,
   "id": "3fc401b1",
   "metadata": {},
   "outputs": [],
   "source": [
    "# Index the account_id unique identifier\n",
    "df_merged = df_merged.set_index('account_id')"
   ]
  },
  {
   "cell_type": "code",
   "execution_count": 899,
   "id": "1010479e",
   "metadata": {},
   "outputs": [
    {
     "data": {
      "text/plain": [
       "Index(['gender', 'age', 'order_amount', 'order_receiver', 'order_char',\n",
       "       'trans_date', 'trans_type', 'trans_mode', 'trans_amount', 'trans_char',\n",
       "       'trans_receiver', 'district_region', 'district_name', 'average_salary'],\n",
       "      dtype='object')"
      ]
     },
     "execution_count": 899,
     "metadata": {},
     "output_type": "execute_result"
    }
   ],
   "source": [
    "# Print the columns\n",
    "df_merged.columns"
   ]
  },
  {
   "cell_type": "markdown",
   "id": "0c34235b",
   "metadata": {},
   "source": [
    "# 4. Data Understanding and Visualization"
   ]
  },
  {
   "cell_type": "markdown",
   "id": "aef18585",
   "metadata": {},
   "source": [
    "##### 4.1. Data Summaries"
   ]
  },
  {
   "cell_type": "code",
   "execution_count": 900,
   "id": "c381f4d9",
   "metadata": {
    "scrolled": true
   },
   "outputs": [
    {
     "data": {
      "text/plain": [
       "(2087865, 14)"
      ]
     },
     "execution_count": 900,
     "metadata": {},
     "output_type": "execute_result"
    }
   ],
   "source": [
    "# Print the number of rows and columns\n",
    "df_merged.shape"
   ]
  },
  {
   "cell_type": "code",
   "execution_count": 901,
   "id": "13c5e5c3",
   "metadata": {},
   "outputs": [
    {
     "name": "stdout",
     "output_type": "stream",
     "text": [
      "<class 'pandas.core.frame.DataFrame'>\n",
      "Int64Index: 2087865 entries, 576 to 3276\n",
      "Data columns (total 14 columns):\n",
      " #   Column           Dtype         \n",
      "---  ------           -----         \n",
      " 0   gender           object        \n",
      " 1   age              int64         \n",
      " 2   order_amount     float64       \n",
      " 3   order_receiver   int64         \n",
      " 4   order_char       object        \n",
      " 5   trans_date       datetime64[ns]\n",
      " 6   trans_type       object        \n",
      " 7   trans_mode       object        \n",
      " 8   trans_amount     float64       \n",
      " 9   trans_char       object        \n",
      " 10  trans_receiver   float64       \n",
      " 11  district_region  object        \n",
      " 12  district_name    object        \n",
      " 13  average_salary   float64       \n",
      "dtypes: datetime64[ns](1), float64(4), int64(2), object(7)\n",
      "memory usage: 238.9+ MB\n"
     ]
    }
   ],
   "source": [
    "# Print information about the structure, data types, memory usage and missing values\n",
    "df_merged.info()"
   ]
  },
  {
   "cell_type": "code",
   "execution_count": 902,
   "id": "a02ee8c9",
   "metadata": {
    "scrolled": true
   },
   "outputs": [
    {
     "data": {
      "text/html": [
       "<div>\n",
       "<style scoped>\n",
       "    .dataframe tbody tr th:only-of-type {\n",
       "        vertical-align: middle;\n",
       "    }\n",
       "\n",
       "    .dataframe tbody tr th {\n",
       "        vertical-align: top;\n",
       "    }\n",
       "\n",
       "    .dataframe thead th {\n",
       "        text-align: right;\n",
       "    }\n",
       "</style>\n",
       "<table border=\"1\" class=\"dataframe\">\n",
       "  <thead>\n",
       "    <tr style=\"text-align: right;\">\n",
       "      <th></th>\n",
       "      <th>gender</th>\n",
       "      <th>age</th>\n",
       "      <th>order_amount</th>\n",
       "      <th>order_receiver</th>\n",
       "      <th>order_char</th>\n",
       "      <th>trans_date</th>\n",
       "      <th>trans_type</th>\n",
       "      <th>trans_mode</th>\n",
       "      <th>trans_amount</th>\n",
       "      <th>trans_char</th>\n",
       "      <th>trans_receiver</th>\n",
       "      <th>district_region</th>\n",
       "      <th>district_name</th>\n",
       "      <th>average_salary</th>\n",
       "    </tr>\n",
       "    <tr>\n",
       "      <th>account_id</th>\n",
       "      <th></th>\n",
       "      <th></th>\n",
       "      <th></th>\n",
       "      <th></th>\n",
       "      <th></th>\n",
       "      <th></th>\n",
       "      <th></th>\n",
       "      <th></th>\n",
       "      <th></th>\n",
       "      <th></th>\n",
       "      <th></th>\n",
       "      <th></th>\n",
       "      <th></th>\n",
       "      <th></th>\n",
       "    </tr>\n",
       "  </thead>\n",
       "  <tbody>\n",
       "    <tr>\n",
       "      <th>576</th>\n",
       "      <td>female</td>\n",
       "      <td>62</td>\n",
       "      <td>146.48</td>\n",
       "      <td>71033382</td>\n",
       "      <td>household payment</td>\n",
       "      <td>1993-01-01</td>\n",
       "      <td>credit</td>\n",
       "      <td>credit in cash</td>\n",
       "      <td>36.000</td>\n",
       "      <td>interest credited</td>\n",
       "      <td>45750951.0</td>\n",
       "      <td>south Moravia</td>\n",
       "      <td>Brno - venkov</td>\n",
       "      <td>349.72</td>\n",
       "    </tr>\n",
       "    <tr>\n",
       "      <th>576</th>\n",
       "      <td>male</td>\n",
       "      <td>63</td>\n",
       "      <td>146.48</td>\n",
       "      <td>71033382</td>\n",
       "      <td>household payment</td>\n",
       "      <td>1993-01-01</td>\n",
       "      <td>credit</td>\n",
       "      <td>credit in cash</td>\n",
       "      <td>36.000</td>\n",
       "      <td>interest credited</td>\n",
       "      <td>45750951.0</td>\n",
       "      <td>south Moravia</td>\n",
       "      <td>Brno - venkov</td>\n",
       "      <td>349.72</td>\n",
       "    </tr>\n",
       "    <tr>\n",
       "      <th>576</th>\n",
       "      <td>female</td>\n",
       "      <td>62</td>\n",
       "      <td>146.48</td>\n",
       "      <td>71033382</td>\n",
       "      <td>household payment</td>\n",
       "      <td>1993-01-11</td>\n",
       "      <td>credit</td>\n",
       "      <td>collection from another bank</td>\n",
       "      <td>248.280</td>\n",
       "      <td>old-age pension payment</td>\n",
       "      <td>30300313.0</td>\n",
       "      <td>south Moravia</td>\n",
       "      <td>Brno - venkov</td>\n",
       "      <td>349.72</td>\n",
       "    </tr>\n",
       "    <tr>\n",
       "      <th>576</th>\n",
       "      <td>male</td>\n",
       "      <td>63</td>\n",
       "      <td>146.48</td>\n",
       "      <td>71033382</td>\n",
       "      <td>household payment</td>\n",
       "      <td>1993-01-11</td>\n",
       "      <td>credit</td>\n",
       "      <td>collection from another bank</td>\n",
       "      <td>248.280</td>\n",
       "      <td>old-age pension payment</td>\n",
       "      <td>30300313.0</td>\n",
       "      <td>south Moravia</td>\n",
       "      <td>Brno - venkov</td>\n",
       "      <td>349.72</td>\n",
       "    </tr>\n",
       "    <tr>\n",
       "      <th>576</th>\n",
       "      <td>female</td>\n",
       "      <td>62</td>\n",
       "      <td>146.48</td>\n",
       "      <td>71033382</td>\n",
       "      <td>household payment</td>\n",
       "      <td>1993-01-31</td>\n",
       "      <td>credit</td>\n",
       "      <td>interest credited</td>\n",
       "      <td>0.804</td>\n",
       "      <td>interest credited</td>\n",
       "      <td>45750951.0</td>\n",
       "      <td>south Moravia</td>\n",
       "      <td>Brno - venkov</td>\n",
       "      <td>349.72</td>\n",
       "    </tr>\n",
       "    <tr>\n",
       "      <th>576</th>\n",
       "      <td>male</td>\n",
       "      <td>63</td>\n",
       "      <td>146.48</td>\n",
       "      <td>71033382</td>\n",
       "      <td>household payment</td>\n",
       "      <td>1993-01-31</td>\n",
       "      <td>credit</td>\n",
       "      <td>interest credited</td>\n",
       "      <td>0.804</td>\n",
       "      <td>interest credited</td>\n",
       "      <td>45750951.0</td>\n",
       "      <td>south Moravia</td>\n",
       "      <td>Brno - venkov</td>\n",
       "      <td>349.72</td>\n",
       "    </tr>\n",
       "    <tr>\n",
       "      <th>576</th>\n",
       "      <td>female</td>\n",
       "      <td>62</td>\n",
       "      <td>146.48</td>\n",
       "      <td>71033382</td>\n",
       "      <td>household payment</td>\n",
       "      <td>1993-02-11</td>\n",
       "      <td>credit</td>\n",
       "      <td>collection from another bank</td>\n",
       "      <td>248.280</td>\n",
       "      <td>old-age pension payment</td>\n",
       "      <td>30300313.0</td>\n",
       "      <td>south Moravia</td>\n",
       "      <td>Brno - venkov</td>\n",
       "      <td>349.72</td>\n",
       "    </tr>\n",
       "    <tr>\n",
       "      <th>576</th>\n",
       "      <td>male</td>\n",
       "      <td>63</td>\n",
       "      <td>146.48</td>\n",
       "      <td>71033382</td>\n",
       "      <td>household payment</td>\n",
       "      <td>1993-02-11</td>\n",
       "      <td>credit</td>\n",
       "      <td>collection from another bank</td>\n",
       "      <td>248.280</td>\n",
       "      <td>old-age pension payment</td>\n",
       "      <td>30300313.0</td>\n",
       "      <td>south Moravia</td>\n",
       "      <td>Brno - venkov</td>\n",
       "      <td>349.72</td>\n",
       "    </tr>\n",
       "    <tr>\n",
       "      <th>576</th>\n",
       "      <td>female</td>\n",
       "      <td>62</td>\n",
       "      <td>146.48</td>\n",
       "      <td>71033382</td>\n",
       "      <td>household payment</td>\n",
       "      <td>1993-02-28</td>\n",
       "      <td>credit</td>\n",
       "      <td>interest credited</td>\n",
       "      <td>1.184</td>\n",
       "      <td>interest credited</td>\n",
       "      <td>45750951.0</td>\n",
       "      <td>south Moravia</td>\n",
       "      <td>Brno - venkov</td>\n",
       "      <td>349.72</td>\n",
       "    </tr>\n",
       "    <tr>\n",
       "      <th>576</th>\n",
       "      <td>male</td>\n",
       "      <td>63</td>\n",
       "      <td>146.48</td>\n",
       "      <td>71033382</td>\n",
       "      <td>household payment</td>\n",
       "      <td>1993-02-28</td>\n",
       "      <td>credit</td>\n",
       "      <td>interest credited</td>\n",
       "      <td>1.184</td>\n",
       "      <td>interest credited</td>\n",
       "      <td>45750951.0</td>\n",
       "      <td>south Moravia</td>\n",
       "      <td>Brno - venkov</td>\n",
       "      <td>349.72</td>\n",
       "    </tr>\n",
       "  </tbody>\n",
       "</table>\n",
       "</div>"
      ],
      "text/plain": [
       "            gender  age  order_amount  order_receiver         order_char  \\\n",
       "account_id                                                                 \n",
       "576         female   62        146.48        71033382  household payment   \n",
       "576           male   63        146.48        71033382  household payment   \n",
       "576         female   62        146.48        71033382  household payment   \n",
       "576           male   63        146.48        71033382  household payment   \n",
       "576         female   62        146.48        71033382  household payment   \n",
       "576           male   63        146.48        71033382  household payment   \n",
       "576         female   62        146.48        71033382  household payment   \n",
       "576           male   63        146.48        71033382  household payment   \n",
       "576         female   62        146.48        71033382  household payment   \n",
       "576           male   63        146.48        71033382  household payment   \n",
       "\n",
       "           trans_date trans_type                    trans_mode  trans_amount  \\\n",
       "account_id                                                                     \n",
       "576        1993-01-01     credit                credit in cash        36.000   \n",
       "576        1993-01-01     credit                credit in cash        36.000   \n",
       "576        1993-01-11     credit  collection from another bank       248.280   \n",
       "576        1993-01-11     credit  collection from another bank       248.280   \n",
       "576        1993-01-31     credit             interest credited         0.804   \n",
       "576        1993-01-31     credit             interest credited         0.804   \n",
       "576        1993-02-11     credit  collection from another bank       248.280   \n",
       "576        1993-02-11     credit  collection from another bank       248.280   \n",
       "576        1993-02-28     credit             interest credited         1.184   \n",
       "576        1993-02-28     credit             interest credited         1.184   \n",
       "\n",
       "                         trans_char  trans_receiver district_region  \\\n",
       "account_id                                                            \n",
       "576               interest credited      45750951.0   south Moravia   \n",
       "576               interest credited      45750951.0   south Moravia   \n",
       "576         old-age pension payment      30300313.0   south Moravia   \n",
       "576         old-age pension payment      30300313.0   south Moravia   \n",
       "576               interest credited      45750951.0   south Moravia   \n",
       "576               interest credited      45750951.0   south Moravia   \n",
       "576         old-age pension payment      30300313.0   south Moravia   \n",
       "576         old-age pension payment      30300313.0   south Moravia   \n",
       "576               interest credited      45750951.0   south Moravia   \n",
       "576               interest credited      45750951.0   south Moravia   \n",
       "\n",
       "            district_name  average_salary  \n",
       "account_id                                 \n",
       "576         Brno - venkov          349.72  \n",
       "576         Brno - venkov          349.72  \n",
       "576         Brno - venkov          349.72  \n",
       "576         Brno - venkov          349.72  \n",
       "576         Brno - venkov          349.72  \n",
       "576         Brno - venkov          349.72  \n",
       "576         Brno - venkov          349.72  \n",
       "576         Brno - venkov          349.72  \n",
       "576         Brno - venkov          349.72  \n",
       "576         Brno - venkov          349.72  "
      ]
     },
     "execution_count": 902,
     "metadata": {},
     "output_type": "execute_result"
    }
   ],
   "source": [
    "# Print the first 10 rows of df_merged\n",
    "df_merged.head(10)"
   ]
  },
  {
   "cell_type": "code",
   "execution_count": 903,
   "id": "a5881c6a",
   "metadata": {
    "scrolled": true
   },
   "outputs": [
    {
     "data": {
      "text/html": [
       "<div>\n",
       "<style scoped>\n",
       "    .dataframe tbody tr th:only-of-type {\n",
       "        vertical-align: middle;\n",
       "    }\n",
       "\n",
       "    .dataframe tbody tr th {\n",
       "        vertical-align: top;\n",
       "    }\n",
       "\n",
       "    .dataframe thead th {\n",
       "        text-align: right;\n",
       "    }\n",
       "</style>\n",
       "<table border=\"1\" class=\"dataframe\">\n",
       "  <thead>\n",
       "    <tr style=\"text-align: right;\">\n",
       "      <th></th>\n",
       "      <th>age</th>\n",
       "      <th>order_amount</th>\n",
       "      <th>order_receiver</th>\n",
       "      <th>trans_amount</th>\n",
       "      <th>trans_receiver</th>\n",
       "      <th>average_salary</th>\n",
       "    </tr>\n",
       "  </thead>\n",
       "  <tbody>\n",
       "    <tr>\n",
       "      <th>count</th>\n",
       "      <td>2.087865e+06</td>\n",
       "      <td>2.087865e+06</td>\n",
       "      <td>2.087865e+06</td>\n",
       "      <td>2.087865e+06</td>\n",
       "      <td>2.087865e+06</td>\n",
       "      <td>2.087865e+06</td>\n",
       "    </tr>\n",
       "    <tr>\n",
       "      <th>mean</th>\n",
       "      <td>4.333565e+01</td>\n",
       "      <td>1.265136e+02</td>\n",
       "      <td>4.938843e+07</td>\n",
       "      <td>2.251400e+02</td>\n",
       "      <td>4.610075e+07</td>\n",
       "      <td>3.817621e+02</td>\n",
       "    </tr>\n",
       "    <tr>\n",
       "      <th>std</th>\n",
       "      <td>1.585842e+01</td>\n",
       "      <td>1.076995e+02</td>\n",
       "      <td>2.886750e+07</td>\n",
       "      <td>3.687227e+02</td>\n",
       "      <td>1.823660e+07</td>\n",
       "      <td>5.354128e+01</td>\n",
       "    </tr>\n",
       "    <tr>\n",
       "      <th>min</th>\n",
       "      <td>1.100000e+01</td>\n",
       "      <td>4.000000e-02</td>\n",
       "      <td>3.990000e+02</td>\n",
       "      <td>0.000000e+00</td>\n",
       "      <td>0.000000e+00</td>\n",
       "      <td>3.244000e+02</td>\n",
       "    </tr>\n",
       "    <tr>\n",
       "      <th>25%</th>\n",
       "      <td>3.000000e+01</td>\n",
       "      <td>4.280000e+01</td>\n",
       "      <td>2.414495e+07</td>\n",
       "      <td>5.984000e+00</td>\n",
       "      <td>4.575095e+07</td>\n",
       "      <td>3.421600e+02</td>\n",
       "    </tr>\n",
       "    <tr>\n",
       "      <th>50%</th>\n",
       "      <td>4.300000e+01</td>\n",
       "      <td>9.788000e+01</td>\n",
       "      <td>4.965243e+07</td>\n",
       "      <td>7.936000e+01</td>\n",
       "      <td>4.575095e+07</td>\n",
       "      <td>3.596400e+02</td>\n",
       "    </tr>\n",
       "    <tr>\n",
       "      <th>75%</th>\n",
       "      <td>5.500000e+01</td>\n",
       "      <td>1.818000e+02</td>\n",
       "      <td>7.400112e+07</td>\n",
       "      <td>2.541600e+02</td>\n",
       "      <td>4.575095e+07</td>\n",
       "      <td>3.968000e+02</td>\n",
       "    </tr>\n",
       "    <tr>\n",
       "      <th>max</th>\n",
       "      <td>8.700000e+01</td>\n",
       "      <td>5.952800e+02</td>\n",
       "      <td>9.999420e+07</td>\n",
       "      <td>3.496000e+03</td>\n",
       "      <td>9.999420e+07</td>\n",
       "      <td>5.016400e+02</td>\n",
       "    </tr>\n",
       "  </tbody>\n",
       "</table>\n",
       "</div>"
      ],
      "text/plain": [
       "                age  order_amount  order_receiver  trans_amount  \\\n",
       "count  2.087865e+06  2.087865e+06    2.087865e+06  2.087865e+06   \n",
       "mean   4.333565e+01  1.265136e+02    4.938843e+07  2.251400e+02   \n",
       "std    1.585842e+01  1.076995e+02    2.886750e+07  3.687227e+02   \n",
       "min    1.100000e+01  4.000000e-02    3.990000e+02  0.000000e+00   \n",
       "25%    3.000000e+01  4.280000e+01    2.414495e+07  5.984000e+00   \n",
       "50%    4.300000e+01  9.788000e+01    4.965243e+07  7.936000e+01   \n",
       "75%    5.500000e+01  1.818000e+02    7.400112e+07  2.541600e+02   \n",
       "max    8.700000e+01  5.952800e+02    9.999420e+07  3.496000e+03   \n",
       "\n",
       "       trans_receiver  average_salary  \n",
       "count    2.087865e+06    2.087865e+06  \n",
       "mean     4.610075e+07    3.817621e+02  \n",
       "std      1.823660e+07    5.354128e+01  \n",
       "min      0.000000e+00    3.244000e+02  \n",
       "25%      4.575095e+07    3.421600e+02  \n",
       "50%      4.575095e+07    3.596400e+02  \n",
       "75%      4.575095e+07    3.968000e+02  \n",
       "max      9.999420e+07    5.016400e+02  "
      ]
     },
     "execution_count": 903,
     "metadata": {},
     "output_type": "execute_result"
    }
   ],
   "source": [
    "# Print the summary to visualize information such as count, mean, standard deviation, min and max\n",
    "df_merged.describe()"
   ]
  },
  {
   "cell_type": "markdown",
   "id": "a099588c",
   "metadata": {},
   "source": [
    "##### 4.1. Data plotting"
   ]
  },
  {
   "cell_type": "code",
   "execution_count": 904,
   "id": "d1c9670d",
   "metadata": {
    "scrolled": true
   },
   "outputs": [
    {
     "name": "stdout",
     "output_type": "stream",
     "text": [
      "Average Age: 43.335646222337175\n"
     ]
    },
    {
     "data": {
      "image/png": "[encoded data removed]",
      "text/plain": [
       "<Figure size 720x432 with 1 Axes>"
      ]
     },
     "metadata": {
      "needs_background": "light"
     },
     "output_type": "display_data"
    }
   ],
   "source": [
    "# Count and print the records in the \"age\" column\n",
    "average_age_mean = df_merged['age'].mean()\n",
    "print(\"Average Age:\", average_age_mean)\n",
    "\n",
    "# Plot the records distribution by age\n",
    "plt.figure(figsize=(10, 6))\n",
    "plt.hist(df_merged['age'], bins=20, color='#B0C5A4', edgecolor='black')\n",
    "plt.title('Distribution of Records by Age', fontsize=16)\n",
    "plt.xlabel('Age', fontsize=14)\n",
    "plt.ylabel('Number of Records', fontsize=14)\n",
    "plt.grid(True)\n",
    "plt.tight_layout()\n",
    "plt.show()"
   ]
  },
  {
   "cell_type": "code",
   "execution_count": 905,
   "id": "a057a21a",
   "metadata": {},
   "outputs": [
    {
     "name": "stdout",
     "output_type": "stream",
     "text": [
      "Average Salary: 381.76214429348903\n"
     ]
    },
    {
     "data": {
      "image/png": "[encoded data removed]",
      "text/plain": [
       "<Figure size 720x432 with 1 Axes>"
      ]
     },
     "metadata": {
      "needs_background": "light"
     },
     "output_type": "display_data"
    }
   ],
   "source": [
    "# Count and print the records in the \"average_salary\" column\n",
    "average_salary_mean = df_merged['average_salary'].mean()\n",
    "print(\"Average Salary:\", average_salary_mean)\n",
    "\n",
    "# Plot the records distribution by average salary\n",
    "plt.figure(figsize=(10, 6))\n",
    "plt.hist(df_merged['average_salary'], bins=20, color='#D37676', edgecolor='black')\n",
    "plt.title('Distribution of Records by Average Salary', fontsize=16)\n",
    "plt.xlabel('Average Salary', fontsize=14)\n",
    "plt.ylabel('Number of Records', fontsize=14)\n",
    "plt.grid(True)\n",
    "plt.tight_layout()\n",
    "plt.show()"
   ]
  },
  {
   "cell_type": "code",
   "execution_count": 906,
   "id": "4b18a750",
   "metadata": {},
   "outputs": [
    {
     "name": "stdout",
     "output_type": "stream",
     "text": [
      "debit                 1343035\n",
      "credit                 716004\n",
      "withdrawal in cash      28826\n",
      "Name: trans_type, dtype: int64\n"
     ]
    },
    {
     "data": {
      "image/png": "[encoded data removed]",
      "text/plain": [
       "<Figure size 720x432 with 1 Axes>"
      ]
     },
     "metadata": {
      "needs_background": "light"
     },
     "output_type": "display_data"
    }
   ],
   "source": [
    "# Count and print the records in the \"trans_type\" column\n",
    "trans_type_counts = df_merged['trans_type'].value_counts()\n",
    "print(trans_type_counts)\n",
    "\n",
    "# Plot the records distribution by transaction type\n",
    "plt.figure(figsize=(10, 6))\n",
    "df_merged['trans_type'].value_counts().sort_index().plot(kind='bar', color='#EBC49F', edgecolor='black')\n",
    "plt.title('Distribution of Records by Transaction Type', fontsize=16)\n",
    "plt.xlabel('Transaction Type', fontsize=14)\n",
    "plt.ylabel('Number of Records', fontsize=14)\n",
    "plt.xticks(rotation=0)\n",
    "plt.grid(True)\n",
    "plt.tight_layout()\n",
    "plt.show()"
   ]
  },
  {
   "cell_type": "code",
   "execution_count": 907,
   "id": "eae187a5",
   "metadata": {
    "scrolled": false
   },
   "outputs": [
    {
     "name": "stdout",
     "output_type": "stream",
     "text": [
      "male      1045670\n",
      "female    1042195\n",
      "Name: gender, dtype: int64\n"
     ]
    },
    {
     "data": {
      "image/png": "[encoded data removed]",
      "text/plain": [
       "<Figure size 720x432 with 1 Axes>"
      ]
     },
     "metadata": {
      "needs_background": "light"
     },
     "output_type": "display_data"
    }
   ],
   "source": [
    "# Count and print the records in the \"gender\" column\n",
    "gender_counts = df_merged['gender'].value_counts()\n",
    "print(gender_counts)\n",
    "\n",
    "# Plot the records distribution by gender\n",
    "plt.figure(figsize=(10, 6))\n",
    "df_merged['gender'].value_counts().sort_index().plot(kind='bar', color='#F1EF99', edgecolor='black')\n",
    "plt.title('Distribution of Records by Gender', fontsize=16)\n",
    "plt.xlabel('Gender', fontsize=14)\n",
    "plt.ylabel('Number of Records', fontsize=14)\n",
    "plt.xticks(rotation=0)\n",
    "plt.grid(True)\n",
    "plt.show()"
   ]
  },
  {
   "cell_type": "code",
   "execution_count": 908,
   "id": "a2d22a4b",
   "metadata": {},
   "outputs": [
    {
     "data": {
      "image/png": "[encoded data removed]",
      "text/plain": [
       "<Figure size 864x432 with 1 Axes>"
      ]
     },
     "metadata": {
      "needs_background": "light"
     },
     "output_type": "display_data"
    }
   ],
   "source": [
    "# Calculate total transaction amount for each district\n",
    "district_transaction_totals = df_merged.groupby('district_name')['trans_amount'].sum() / 1_000_000  # Divide by 1 million for millions\n",
    "\n",
    "# Select top 20 districts by total transaction amount\n",
    "top_20_districts = district_transaction_totals.nlargest(20).index\n",
    "\n",
    "# Filter dataframe to include only data for top 20 districts\n",
    "df_top_20 = df_merged[df_merged['district_name'].isin(top_20_districts)]\n",
    "\n",
    "# Create a bar plot to visualize the total sum of transactions across top 20 districts\n",
    "plt.figure(figsize=(12, 6))\n",
    "plt.xticks(rotation=45) \n",
    "plt.xlabel('District Name', fontsize=14)\n",
    "plt.bar(top_20_districts, district_transaction_totals[top_20_districts], color='#8CB9BD', edgecolor='black')\n",
    "plt.ylabel('Total Transaction Amount (in Millions)', fontsize=14)\n",
    "plt.title('Total Transaction Amounts Across Top 20 Districts', fontsize=16)\n",
    "plt.grid(True)\n",
    "plt.tight_layout()\n",
    "plt.show()"
   ]
  },
  {
   "cell_type": "code",
   "execution_count": 909,
   "id": "781c8299",
   "metadata": {},
   "outputs": [
    {
     "data": {
      "image/png": "[encoded data removed]",
      "text/plain": [
       "<Figure size 864x432 with 1 Axes>"
      ]
     },
     "metadata": {
      "needs_background": "light"
     },
     "output_type": "display_data"
    }
   ],
   "source": [
    "# Calculate total order amount for each receiver\n",
    "receiver_order_totals = df_merged.groupby('order_receiver')['order_amount'].sum()\n",
    "\n",
    "# Select top 20 receivers by total order amount\n",
    "top_20_receivers = receiver_order_totals.nlargest(20)\n",
    "\n",
    "# Create a bar plot to visualize the total sum of orders across top 20 receivers\n",
    "plt.figure(figsize=(12, 6))\n",
    "plt.xticks(rotation=45)\n",
    "top_20_receivers.plot(kind='bar', color='#ECB159', edgecolor='black')\n",
    "plt.xlabel('Order Receiver', fontsize=14)\n",
    "plt.ylabel('Total Order Amount', fontsize=14)\n",
    "plt.title('Total Order Amounts Across Top 20 Receivers', fontsize=16)\n",
    "plt.grid(True)\n",
    "plt.tight_layout()\n",
    "plt.show()\n"
   ]
  },
  {
   "cell_type": "code",
   "execution_count": 910,
   "id": "01009b77",
   "metadata": {},
   "outputs": [
    {
     "data": {
      "image/png": "[encoded data removed]",
      "text/plain": [
       "<Figure size 576x576 with 1 Axes>"
      ]
     },
     "metadata": {},
     "output_type": "display_data"
    }
   ],
   "source": [
    "# Calculate total order amount for each order characteristic and convert to millions\n",
    "order_char_totals_millions = df_merged.groupby('order_char')['order_amount'].sum() / 1_000_000\n",
    "palette = ['#FD8A8A', '#F1F7B5', '#A8D1D1', '#9EA1D4']\n",
    "\n",
    "# Create a pie chart to visualize the total sum of orders across all order characteristics\n",
    "plt.figure(figsize=(8, 8))\n",
    "order_char_totals_millions.plot(kind='pie', autopct='%1.1f%%', startangle=140, colors=palette)\n",
    "plt.ylabel('')  # Remove the y-axis label\n",
    "plt.title('Total Order Amounts Across Order Characteristics', fontsize=16)\n",
    "plt.show()"
   ]
  },
  {
   "cell_type": "code",
   "execution_count": 911,
   "id": "82cd18e9",
   "metadata": {},
   "outputs": [
    {
     "data": {
      "image/png": "[encoded data removed]",
      "text/plain": [
       "<Figure size 864x432 with 1 Axes>"
      ]
     },
     "metadata": {
      "needs_background": "light"
     },
     "output_type": "display_data"
    }
   ],
   "source": [
    "# Calculate the sum of average salaries for each district and convert to millions\n",
    "district_avg_salary_totals = df_merged.groupby('district_name')['average_salary'].sum() / 1_000_000\n",
    "\n",
    "# Select top 20 districts by the sum of average salaries\n",
    "top_20_districts = district_avg_salary_totals.nlargest(20)\n",
    "\n",
    "# Create a bar plot to visualize the sum of average salaries across top 20 districts\n",
    "plt.figure(figsize=(12, 6))\n",
    "plt.xticks(rotation=45)\n",
    "top_20_districts.plot(kind='bar', color='#B67352', edgecolor='black')\n",
    "plt.xlabel('District Name', fontsize=14)\n",
    "plt.ylabel('Sum of Average Salary (Millions)', fontsize=14)\n",
    "plt.title('Sum of Average Salary Across Top 20 Districts', fontsize=16)\n",
    "plt.grid(True)\n",
    "plt.tight_layout()\n",
    "plt.show()"
   ]
  },
  {
   "cell_type": "code",
   "execution_count": 912,
   "id": "948ab50f",
   "metadata": {
    "scrolled": true
   },
   "outputs": [
    {
     "name": "stderr",
     "output_type": "stream",
     "text": [
      "C:\\Users\\carol\\AppData\\Local\\Temp/ipykernel_3908/1156189319.py:18: UserWarning: Tight layout not applied. The left and right margins cannot be made large enough to accommodate all axes decorations. \n",
      "  plt.tight_layout()\n"
     ]
    },
    {
     "data": {
      "image/png": "[encoded data removed]",
      "text/plain": [
       "<Figure size 432x288 with 1 Axes>"
      ]
     },
     "metadata": {
      "needs_background": "light"
     },
     "output_type": "display_data"
    }
   ],
   "source": [
    "# Define spending ranges\n",
    "spending_bins = [0, 100, 300, 500, 1000, 5000]\n",
    "spending_labels = ['0-100', '101-300', '301-500', '501-1000', '1001-5000']\n",
    "palette = ['#B5D5C5', '#ECA869', '#B08BBB']\n",
    "\n",
    "# Assign spending range to each transaction\n",
    "df_merged['spending_range'] = pd.cut(df_merged['trans_amount'], bins=spending_bins, labels=spending_labels)\n",
    "\n",
    "# Create a bar plot to visualize the count of transactions in each spending range and trans_type\n",
    "df_plot = df_merged.groupby(['spending_range', 'trans_type']).size().unstack(fill_value=0) / 1000  # Convert to thousands\n",
    "df_plot.plot(kind='bar', stacked=True, color=palette)\n",
    "plt.xlabel('Spending Range', fontsize=14)\n",
    "plt.ylabel('Count of Transactions (K)', fontsize=14)\n",
    "plt.title('Count of Transactions by Spending Range and Transaction Type', fontsize=16)\n",
    "plt.legend(title='Transaction Type', bbox_to_anchor=(2,1), loc='upper left')\n",
    "plt.xticks(rotation=45)\n",
    "plt.grid(True)\n",
    "plt.tight_layout()\n",
    "plt.show()"
   ]
  },
  {
   "cell_type": "markdown",
   "id": "42e3fea8",
   "metadata": {},
   "source": [
    "# 6. Encoding\n",
    "##### Transform categorical variables into numerical representations"
   ]
  },
  {
   "cell_type": "code",
   "execution_count": 913,
   "id": "4852f9f9",
   "metadata": {},
   "outputs": [],
   "source": [
    "# Split the transaction date into different columns for day, month and year\n",
    "df_merged.loc[:, 'trans_day'] = df_merged['trans_date'].dt.day\n",
    "df_merged.loc[:, 'trans_month'] = df_merged['trans_date'].dt.month\n",
    "df_merged.loc[:, 'trans_year'] = df_merged['trans_date'].dt.year"
   ]
  },
  {
   "cell_type": "markdown",
   "id": "5521b96d",
   "metadata": {},
   "source": [
    "The gender, district_region and district_name columns might not directly influence fraudulent transactions."
   ]
  },
  {
   "cell_type": "code",
   "execution_count": 914,
   "id": "3b25c9bc",
   "metadata": {},
   "outputs": [],
   "source": [
    "# Drop more unnecessary data\n",
    "df_merged.drop(columns=['trans_date'], inplace=True)\n",
    "df_merged.drop(columns=['spending_range'], inplace=True)\n",
    "df_merged.drop(columns=['gender'], inplace=True)\n",
    "df_merged.drop(columns=['district_region'], inplace=True)\n",
    "df_merged.drop(columns=['district_name'], inplace=True)"
   ]
  },
  {
   "cell_type": "code",
   "execution_count": 915,
   "id": "226c08c8",
   "metadata": {},
   "outputs": [
    {
     "data": {
      "text/html": [
       "<div>\n",
       "<style scoped>\n",
       "    .dataframe tbody tr th:only-of-type {\n",
       "        vertical-align: middle;\n",
       "    }\n",
       "\n",
       "    .dataframe tbody tr th {\n",
       "        vertical-align: top;\n",
       "    }\n",
       "\n",
       "    .dataframe thead th {\n",
       "        text-align: right;\n",
       "    }\n",
       "</style>\n",
       "<table border=\"1\" class=\"dataframe\">\n",
       "  <thead>\n",
       "    <tr style=\"text-align: right;\">\n",
       "      <th></th>\n",
       "      <th>age</th>\n",
       "      <th>order_amount</th>\n",
       "      <th>order_receiver</th>\n",
       "      <th>trans_amount</th>\n",
       "      <th>trans_receiver</th>\n",
       "      <th>average_salary</th>\n",
       "      <th>trans_day</th>\n",
       "      <th>trans_month</th>\n",
       "      <th>trans_year</th>\n",
       "      <th>order_char_household payment</th>\n",
       "      <th>...</th>\n",
       "      <th>trans_mode_interest credited</th>\n",
       "      <th>trans_mode_remittance to another bank</th>\n",
       "      <th>trans_mode_withdrawal in cash</th>\n",
       "      <th>trans_char_household payment</th>\n",
       "      <th>trans_char_insurance payment</th>\n",
       "      <th>trans_char_interest credited</th>\n",
       "      <th>trans_char_loan payment</th>\n",
       "      <th>trans_char_old-age pension payment</th>\n",
       "      <th>trans_char_payment of statement</th>\n",
       "      <th>trans_char_sanction interest if negative balance</th>\n",
       "    </tr>\n",
       "    <tr>\n",
       "      <th>account_id</th>\n",
       "      <th></th>\n",
       "      <th></th>\n",
       "      <th></th>\n",
       "      <th></th>\n",
       "      <th></th>\n",
       "      <th></th>\n",
       "      <th></th>\n",
       "      <th></th>\n",
       "      <th></th>\n",
       "      <th></th>\n",
       "      <th></th>\n",
       "      <th></th>\n",
       "      <th></th>\n",
       "      <th></th>\n",
       "      <th></th>\n",
       "      <th></th>\n",
       "      <th></th>\n",
       "      <th></th>\n",
       "      <th></th>\n",
       "      <th></th>\n",
       "      <th></th>\n",
       "    </tr>\n",
       "  </thead>\n",
       "  <tbody>\n",
       "    <tr>\n",
       "      <th>576</th>\n",
       "      <td>62</td>\n",
       "      <td>146.48</td>\n",
       "      <td>71033382</td>\n",
       "      <td>36.000</td>\n",
       "      <td>45750951.0</td>\n",
       "      <td>349.72</td>\n",
       "      <td>1</td>\n",
       "      <td>1</td>\n",
       "      <td>1993</td>\n",
       "      <td>1</td>\n",
       "      <td>...</td>\n",
       "      <td>0</td>\n",
       "      <td>0</td>\n",
       "      <td>0</td>\n",
       "      <td>0</td>\n",
       "      <td>0</td>\n",
       "      <td>1</td>\n",
       "      <td>0</td>\n",
       "      <td>0</td>\n",
       "      <td>0</td>\n",
       "      <td>0</td>\n",
       "    </tr>\n",
       "    <tr>\n",
       "      <th>576</th>\n",
       "      <td>63</td>\n",
       "      <td>146.48</td>\n",
       "      <td>71033382</td>\n",
       "      <td>36.000</td>\n",
       "      <td>45750951.0</td>\n",
       "      <td>349.72</td>\n",
       "      <td>1</td>\n",
       "      <td>1</td>\n",
       "      <td>1993</td>\n",
       "      <td>1</td>\n",
       "      <td>...</td>\n",
       "      <td>0</td>\n",
       "      <td>0</td>\n",
       "      <td>0</td>\n",
       "      <td>0</td>\n",
       "      <td>0</td>\n",
       "      <td>1</td>\n",
       "      <td>0</td>\n",
       "      <td>0</td>\n",
       "      <td>0</td>\n",
       "      <td>0</td>\n",
       "    </tr>\n",
       "    <tr>\n",
       "      <th>576</th>\n",
       "      <td>62</td>\n",
       "      <td>146.48</td>\n",
       "      <td>71033382</td>\n",
       "      <td>248.280</td>\n",
       "      <td>30300313.0</td>\n",
       "      <td>349.72</td>\n",
       "      <td>11</td>\n",
       "      <td>1</td>\n",
       "      <td>1993</td>\n",
       "      <td>1</td>\n",
       "      <td>...</td>\n",
       "      <td>0</td>\n",
       "      <td>0</td>\n",
       "      <td>0</td>\n",
       "      <td>0</td>\n",
       "      <td>0</td>\n",
       "      <td>0</td>\n",
       "      <td>0</td>\n",
       "      <td>1</td>\n",
       "      <td>0</td>\n",
       "      <td>0</td>\n",
       "    </tr>\n",
       "    <tr>\n",
       "      <th>576</th>\n",
       "      <td>63</td>\n",
       "      <td>146.48</td>\n",
       "      <td>71033382</td>\n",
       "      <td>248.280</td>\n",
       "      <td>30300313.0</td>\n",
       "      <td>349.72</td>\n",
       "      <td>11</td>\n",
       "      <td>1</td>\n",
       "      <td>1993</td>\n",
       "      <td>1</td>\n",
       "      <td>...</td>\n",
       "      <td>0</td>\n",
       "      <td>0</td>\n",
       "      <td>0</td>\n",
       "      <td>0</td>\n",
       "      <td>0</td>\n",
       "      <td>0</td>\n",
       "      <td>0</td>\n",
       "      <td>1</td>\n",
       "      <td>0</td>\n",
       "      <td>0</td>\n",
       "    </tr>\n",
       "    <tr>\n",
       "      <th>576</th>\n",
       "      <td>62</td>\n",
       "      <td>146.48</td>\n",
       "      <td>71033382</td>\n",
       "      <td>0.804</td>\n",
       "      <td>45750951.0</td>\n",
       "      <td>349.72</td>\n",
       "      <td>31</td>\n",
       "      <td>1</td>\n",
       "      <td>1993</td>\n",
       "      <td>1</td>\n",
       "      <td>...</td>\n",
       "      <td>1</td>\n",
       "      <td>0</td>\n",
       "      <td>0</td>\n",
       "      <td>0</td>\n",
       "      <td>0</td>\n",
       "      <td>1</td>\n",
       "      <td>0</td>\n",
       "      <td>0</td>\n",
       "      <td>0</td>\n",
       "      <td>0</td>\n",
       "    </tr>\n",
       "  </tbody>\n",
       "</table>\n",
       "<p>5 rows × 29 columns</p>\n",
       "</div>"
      ],
      "text/plain": [
       "            age  order_amount  order_receiver  trans_amount  trans_receiver  \\\n",
       "account_id                                                                    \n",
       "576          62        146.48        71033382        36.000      45750951.0   \n",
       "576          63        146.48        71033382        36.000      45750951.0   \n",
       "576          62        146.48        71033382       248.280      30300313.0   \n",
       "576          63        146.48        71033382       248.280      30300313.0   \n",
       "576          62        146.48        71033382         0.804      45750951.0   \n",
       "\n",
       "            average_salary  trans_day  trans_month  trans_year  \\\n",
       "account_id                                                       \n",
       "576                 349.72          1            1        1993   \n",
       "576                 349.72          1            1        1993   \n",
       "576                 349.72         11            1        1993   \n",
       "576                 349.72         11            1        1993   \n",
       "576                 349.72         31            1        1993   \n",
       "\n",
       "            order_char_household payment  ...  trans_mode_interest credited  \\\n",
       "account_id                                ...                                 \n",
       "576                                    1  ...                             0   \n",
       "576                                    1  ...                             0   \n",
       "576                                    1  ...                             0   \n",
       "576                                    1  ...                             0   \n",
       "576                                    1  ...                             1   \n",
       "\n",
       "            trans_mode_remittance to another bank  \\\n",
       "account_id                                          \n",
       "576                                             0   \n",
       "576                                             0   \n",
       "576                                             0   \n",
       "576                                             0   \n",
       "576                                             0   \n",
       "\n",
       "            trans_mode_withdrawal in cash  trans_char_household payment  \\\n",
       "account_id                                                                \n",
       "576                                     0                             0   \n",
       "576                                     0                             0   \n",
       "576                                     0                             0   \n",
       "576                                     0                             0   \n",
       "576                                     0                             0   \n",
       "\n",
       "            trans_char_insurance payment  trans_char_interest credited  \\\n",
       "account_id                                                               \n",
       "576                                    0                             1   \n",
       "576                                    0                             1   \n",
       "576                                    0                             0   \n",
       "576                                    0                             0   \n",
       "576                                    0                             1   \n",
       "\n",
       "            trans_char_loan payment  trans_char_old-age pension payment  \\\n",
       "account_id                                                                \n",
       "576                               0                                   0   \n",
       "576                               0                                   0   \n",
       "576                               0                                   1   \n",
       "576                               0                                   1   \n",
       "576                               0                                   0   \n",
       "\n",
       "            trans_char_payment of statement  \\\n",
       "account_id                                    \n",
       "576                                       0   \n",
       "576                                       0   \n",
       "576                                       0   \n",
       "576                                       0   \n",
       "576                                       0   \n",
       "\n",
       "            trans_char_sanction interest if negative balance  \n",
       "account_id                                                    \n",
       "576                                                        0  \n",
       "576                                                        0  \n",
       "576                                                        0  \n",
       "576                                                        0  \n",
       "576                                                        0  \n",
       "\n",
       "[5 rows x 29 columns]"
      ]
     },
     "execution_count": 915,
     "metadata": {},
     "output_type": "execute_result"
    }
   ],
   "source": [
    "# Use one-hot encoding to convert categorical variables into binary format\n",
    "# This creates dummy variables for each unique category in the specified columns\n",
    "df_encoded = pd.get_dummies(df_merged, columns = ['order_char', 'trans_type', 'trans_mode', 'trans_char']) \n",
    "df_encoded.head()"
   ]
  },
  {
   "cell_type": "code",
   "execution_count": 916,
   "id": "3133bfe0",
   "metadata": {},
   "outputs": [],
   "source": [
    "# Replace the empty spaces by underscores\n",
    "df_encoded.columns = df_encoded.columns.str.replace(' ', '_')"
   ]
  },
  {
   "cell_type": "code",
   "execution_count": 917,
   "id": "7095b552",
   "metadata": {},
   "outputs": [
    {
     "data": {
      "text/plain": [
       "Index(['age', 'order_amount', 'order_receiver', 'trans_amount',\n",
       "       'trans_receiver', 'average_salary', 'trans_day', 'trans_month',\n",
       "       'trans_year', 'order_char_household_payment',\n",
       "       'order_char_insurance_payment', 'order_char_leasing_payment',\n",
       "       'order_char_loan_payment', 'trans_type_credit', 'trans_type_debit',\n",
       "       'trans_type_withdrawal_in_cash',\n",
       "       'trans_mode_collection_from_another_bank',\n",
       "       'trans_mode_credit_card_withdrawal', 'trans_mode_credit_in_cash',\n",
       "       'trans_mode_interest_credited', 'trans_mode_remittance_to_another_bank',\n",
       "       'trans_mode_withdrawal_in_cash', 'trans_char_household_payment',\n",
       "       'trans_char_insurance_payment', 'trans_char_interest_credited',\n",
       "       'trans_char_loan_payment', 'trans_char_old-age_pension_payment',\n",
       "       'trans_char_payment_of_statement',\n",
       "       'trans_char_sanction_interest_if_negative_balance'],\n",
       "      dtype='object')"
      ]
     },
     "execution_count": 917,
     "metadata": {},
     "output_type": "execute_result"
    }
   ],
   "source": [
    "# Print the columns\n",
    "df_encoded.columns"
   ]
  },
  {
   "cell_type": "markdown",
   "id": "d7e0f706",
   "metadata": {},
   "source": [
    "# 7. Standardization and PCA\n",
    "##### Apply preprocessing techniques to rescale and reduce the dataset"
   ]
  },
  {
   "cell_type": "code",
   "execution_count": 919,
   "id": "5de563ac",
   "metadata": {},
   "outputs": [
    {
     "data": {
      "text/html": [
       "<div>\n",
       "<style scoped>\n",
       "    .dataframe tbody tr th:only-of-type {\n",
       "        vertical-align: middle;\n",
       "    }\n",
       "\n",
       "    .dataframe tbody tr th {\n",
       "        vertical-align: top;\n",
       "    }\n",
       "\n",
       "    .dataframe thead th {\n",
       "        text-align: right;\n",
       "    }\n",
       "</style>\n",
       "<table border=\"1\" class=\"dataframe\">\n",
       "  <thead>\n",
       "    <tr style=\"text-align: right;\">\n",
       "      <th></th>\n",
       "      <th>T1</th>\n",
       "      <th>T2</th>\n",
       "      <th>T3</th>\n",
       "      <th>T4</th>\n",
       "      <th>T5</th>\n",
       "      <th>T6</th>\n",
       "      <th>T7</th>\n",
       "      <th>T8</th>\n",
       "      <th>T9</th>\n",
       "      <th>T10</th>\n",
       "      <th>T11</th>\n",
       "      <th>T12</th>\n",
       "      <th>T13</th>\n",
       "      <th>T14</th>\n",
       "      <th>T15</th>\n",
       "      <th>T16</th>\n",
       "      <th>T17</th>\n",
       "      <th>T18</th>\n",
       "      <th>T19</th>\n",
       "      <th>T20</th>\n",
       "    </tr>\n",
       "  </thead>\n",
       "  <tbody>\n",
       "    <tr>\n",
       "      <th>0</th>\n",
       "      <td>2.361943</td>\n",
       "      <td>-1.234862</td>\n",
       "      <td>0.121555</td>\n",
       "      <td>0.860109</td>\n",
       "      <td>-1.031949</td>\n",
       "      <td>-0.704694</td>\n",
       "      <td>-0.971534</td>\n",
       "      <td>-0.472431</td>\n",
       "      <td>-0.270506</td>\n",
       "      <td>0.085108</td>\n",
       "      <td>-1.153671</td>\n",
       "      <td>0.225425</td>\n",
       "      <td>0.143756</td>\n",
       "      <td>-0.102798</td>\n",
       "      <td>-0.951107</td>\n",
       "      <td>-1.069653</td>\n",
       "      <td>-0.373085</td>\n",
       "      <td>3.130731</td>\n",
       "      <td>-0.108538</td>\n",
       "      <td>-0.141703</td>\n",
       "    </tr>\n",
       "    <tr>\n",
       "      <th>1</th>\n",
       "      <td>2.361879</td>\n",
       "      <td>-1.235077</td>\n",
       "      <td>0.139587</td>\n",
       "      <td>0.867025</td>\n",
       "      <td>-1.023472</td>\n",
       "      <td>-0.706055</td>\n",
       "      <td>-0.965755</td>\n",
       "      <td>-0.465330</td>\n",
       "      <td>-0.261554</td>\n",
       "      <td>0.091278</td>\n",
       "      <td>-1.166163</td>\n",
       "      <td>0.226578</td>\n",
       "      <td>0.145608</td>\n",
       "      <td>-0.110982</td>\n",
       "      <td>-0.956557</td>\n",
       "      <td>-1.060576</td>\n",
       "      <td>-0.418606</td>\n",
       "      <td>3.150659</td>\n",
       "      <td>-0.090234</td>\n",
       "      <td>-0.134537</td>\n",
       "    </tr>\n",
       "    <tr>\n",
       "      <th>2</th>\n",
       "      <td>2.292150</td>\n",
       "      <td>-1.938011</td>\n",
       "      <td>4.658657</td>\n",
       "      <td>3.674019</td>\n",
       "      <td>4.247403</td>\n",
       "      <td>0.168192</td>\n",
       "      <td>1.341283</td>\n",
       "      <td>0.232138</td>\n",
       "      <td>0.019505</td>\n",
       "      <td>-0.632746</td>\n",
       "      <td>-0.458325</td>\n",
       "      <td>0.132127</td>\n",
       "      <td>-0.238398</td>\n",
       "      <td>0.323479</td>\n",
       "      <td>-0.527406</td>\n",
       "      <td>-2.030157</td>\n",
       "      <td>1.683542</td>\n",
       "      <td>1.887263</td>\n",
       "      <td>0.287583</td>\n",
       "      <td>-1.300573</td>\n",
       "    </tr>\n",
       "    <tr>\n",
       "      <th>3</th>\n",
       "      <td>2.292086</td>\n",
       "      <td>-1.938225</td>\n",
       "      <td>4.676688</td>\n",
       "      <td>3.680935</td>\n",
       "      <td>4.255880</td>\n",
       "      <td>0.166831</td>\n",
       "      <td>1.347062</td>\n",
       "      <td>0.239239</td>\n",
       "      <td>0.028457</td>\n",
       "      <td>-0.626576</td>\n",
       "      <td>-0.470817</td>\n",
       "      <td>0.133280</td>\n",
       "      <td>-0.236546</td>\n",
       "      <td>0.315295</td>\n",
       "      <td>-0.532856</td>\n",
       "      <td>-2.021080</td>\n",
       "      <td>1.638021</td>\n",
       "      <td>1.907191</td>\n",
       "      <td>0.305887</td>\n",
       "      <td>-1.293407</td>\n",
       "    </tr>\n",
       "    <tr>\n",
       "      <th>4</th>\n",
       "      <td>2.589922</td>\n",
       "      <td>0.980931</td>\n",
       "      <td>1.709700</td>\n",
       "      <td>-1.805455</td>\n",
       "      <td>-0.466761</td>\n",
       "      <td>-0.056503</td>\n",
       "      <td>-0.137066</td>\n",
       "      <td>0.875104</td>\n",
       "      <td>0.347578</td>\n",
       "      <td>-0.300059</td>\n",
       "      <td>-0.937147</td>\n",
       "      <td>0.182267</td>\n",
       "      <td>0.004687</td>\n",
       "      <td>-0.038046</td>\n",
       "      <td>-0.888358</td>\n",
       "      <td>-1.543487</td>\n",
       "      <td>0.210661</td>\n",
       "      <td>2.278142</td>\n",
       "      <td>0.629142</td>\n",
       "      <td>-0.183096</td>\n",
       "    </tr>\n",
       "  </tbody>\n",
       "</table>\n",
       "</div>"
      ],
      "text/plain": [
       "         T1        T2        T3        T4        T5        T6        T7  \\\n",
       "0  2.361943 -1.234862  0.121555  0.860109 -1.031949 -0.704694 -0.971534   \n",
       "1  2.361879 -1.235077  0.139587  0.867025 -1.023472 -0.706055 -0.965755   \n",
       "2  2.292150 -1.938011  4.658657  3.674019  4.247403  0.168192  1.341283   \n",
       "3  2.292086 -1.938225  4.676688  3.680935  4.255880  0.166831  1.347062   \n",
       "4  2.589922  0.980931  1.709700 -1.805455 -0.466761 -0.056503 -0.137066   \n",
       "\n",
       "         T8        T9       T10       T11       T12       T13       T14  \\\n",
       "0 -0.472431 -0.270506  0.085108 -1.153671  0.225425  0.143756 -0.102798   \n",
       "1 -0.465330 -0.261554  0.091278 -1.166163  0.226578  0.145608 -0.110982   \n",
       "2  0.232138  0.019505 -0.632746 -0.458325  0.132127 -0.238398  0.323479   \n",
       "3  0.239239  0.028457 -0.626576 -0.470817  0.133280 -0.236546  0.315295   \n",
       "4  0.875104  0.347578 -0.300059 -0.937147  0.182267  0.004687 -0.038046   \n",
       "\n",
       "        T15       T16       T17       T18       T19       T20  \n",
       "0 -0.951107 -1.069653 -0.373085  3.130731 -0.108538 -0.141703  \n",
       "1 -0.956557 -1.060576 -0.418606  3.150659 -0.090234 -0.134537  \n",
       "2 -0.527406 -2.030157  1.683542  1.887263  0.287583 -1.300573  \n",
       "3 -0.532856 -2.021080  1.638021  1.907191  0.305887 -1.293407  \n",
       "4 -0.888358 -1.543487  0.210661  2.278142  0.629142 -0.183096  "
      ]
     },
     "execution_count": 919,
     "metadata": {},
     "output_type": "execute_result"
    }
   ],
   "source": [
    "# Standardize the df_encoded dataset\n",
    "scaler = StandardScaler()\n",
    "df_scaled = scaler.fit_transform(df_encoded)\n",
    "\n",
    "# Fit the PCA model to the df_scaled\n",
    "pca = PCA(n_components=0.95) # Target variance of 95\n",
    "pca.fit(df_scaled)\n",
    "\n",
    "# Transform the df_scaled using the trained PCA model\n",
    "pca_data = pca.transform(df_scaled)\n",
    "\n",
    "# Store the transformed data in the df_pca\n",
    "df_pca = pd.DataFrame(data=pca_data, columns=[f\"T{i+1}\" for i in range(pca.n_components_)])\n",
    "\n",
    "df_pca.head()"
   ]
  },
  {
   "cell_type": "code",
   "execution_count": null,
   "id": "75becea8",
   "metadata": {},
   "outputs": [],
   "source": []
  }
 ],
 "metadata": {
  "kernelspec": {
   "display_name": "Python 3 (ipykernel)",
   "language": "python",
   "name": "python3"
  },
  "language_info": {
   "codemirror_mode": {
    "name": "ipython",
    "version": 3
   },
   "file_extension": ".py",
   "mimetype": "text/x-python",
   "name": "python",
   "nbconvert_exporter": "python",
   "pygments_lexer": "ipython3",
   "version": "3.9.7"
  }
 },
 "nbformat": 4,
 "nbformat_minor": 5
}
